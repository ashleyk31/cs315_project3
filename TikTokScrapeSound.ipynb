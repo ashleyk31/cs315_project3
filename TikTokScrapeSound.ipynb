{
 "cells": [
  {
   "cell_type": "markdown",
   "id": "11f91b9d-8cd2-46c1-930d-0db5617b27fd",
   "metadata": {},
   "source": [
    "# How to Scrape TikTok Sounds + Hashtags\n",
    "\n",
    "This tutorial does the following:\n",
    "\n",
    "1. [Connects to an existing (open) Chrome instance](#sec1)\n",
    "2. [It shows how we can get videos from a TikTok **sound** page](#sec2)\n",
    "3. [It shows how we can get videos from a TikTok **hashtag** page](#sec3)"
   ]
  },
  {
   "cell_type": "markdown",
   "id": "8a870e68-8252-434e-bbfe-47b487f2bd02",
   "metadata": {
    "jp-MarkdownHeadingCollapsed": true
   },
   "source": [
    "<a id=\"sec1\"></a>\n",
    "## Create Chrome Instance\n",
    "\n",
    "**Important:** For this to work, you should already have the Google instance running on your computer. To do that, open a **new terminal** and run the command for your browser (see below).\n",
    "\n",
    "\n",
    "**On Mac:**\n",
    "```\n",
    "/Applications/Google\\ Chrome.app/Contents/MacOS/Google\\ Chrome --remote-debugging-port=9222 --user-data-dir=\"/tmp/chrome_dev_test\"\n",
    "```\n",
    "\n",
    "**On Windows:**\n",
    "\n",
    "```\n",
    "C:\\Program Files (x86)\\Google\\Chrome\\Application\\chrome.exe\" --remote-debugging-port=9222 --user-data-dir=\"C:\\selenium\\ChromeTestProfile\n",
    "```"
   ]
  },
  {
   "cell_type": "markdown",
   "id": "6c0c085f-1d43-40ae-909f-f664a615c1e7",
   "metadata": {},
   "source": [
    "**New installation**\n",
    "\n",
    "If you don't have the following package, install it once."
   ]
  },
  {
   "cell_type": "code",
   "execution_count": 24,
   "id": "8a110b0c-cfc0-4590-95ee-5ba4ae4b3ff9",
   "metadata": {},
   "outputs": [
    {
     "name": "stdout",
     "output_type": "stream",
     "text": [
      "Requirement already satisfied: webdriver_manager in /Library/Frameworks/Python.framework/Versions/3.11/lib/python3.11/site-packages (4.0.1)\n",
      "Requirement already satisfied: requests in /Library/Frameworks/Python.framework/Versions/3.11/lib/python3.11/site-packages (from webdriver_manager) (2.31.0)\n",
      "Requirement already satisfied: python-dotenv in /Library/Frameworks/Python.framework/Versions/3.11/lib/python3.11/site-packages (from webdriver_manager) (1.0.1)\n",
      "Requirement already satisfied: packaging in /Library/Frameworks/Python.framework/Versions/3.11/lib/python3.11/site-packages (from webdriver_manager) (23.2)\n",
      "Requirement already satisfied: charset-normalizer<4,>=2 in /Library/Frameworks/Python.framework/Versions/3.11/lib/python3.11/site-packages (from requests->webdriver_manager) (3.3.2)\n",
      "Requirement already satisfied: idna<4,>=2.5 in /Library/Frameworks/Python.framework/Versions/3.11/lib/python3.11/site-packages (from requests->webdriver_manager) (3.6)\n",
      "Requirement already satisfied: urllib3<3,>=1.21.1 in /Library/Frameworks/Python.framework/Versions/3.11/lib/python3.11/site-packages (from requests->webdriver_manager) (2.2.1)\n",
      "Requirement already satisfied: certifi>=2017.4.17 in /Library/Frameworks/Python.framework/Versions/3.11/lib/python3.11/site-packages (from requests->webdriver_manager) (2024.2.2)\n",
      "Note: you may need to restart the kernel to use updated packages.\n"
     ]
    }
   ],
   "source": [
    "pip install webdriver_manager"
   ]
  },
  {
   "cell_type": "markdown",
   "id": "8376e2a0-943c-47b4-9a9a-40a1ee0ae88d",
   "metadata": {},
   "source": [
    "Now we are ready to scrape!"
   ]
  },
  {
   "cell_type": "markdown",
   "id": "0a751730-1621-4ce9-a995-5d772f38ab08",
   "metadata": {},
   "source": [
    "<a id=\"sec2\"></a>\n",
    "## Getting Videos From a TikTok *Sound* Page\n",
    "\n",
    "*Change the first line in the following code block to match your desired sound.*"
   ]
  },
  {
   "cell_type": "code",
   "execution_count": 57,
   "id": "ee7c1141-84f6-4c0b-b0b5-475b1ddfef18",
   "metadata": {},
   "outputs": [],
   "source": [
    "from selenium import webdriver\n",
    "from selenium.webdriver.chrome.options import Options\n",
    "from selenium.webdriver.chrome.service import Service\n",
    "from webdriver_manager.chrome import ChromeDriverManager\n",
    "from selenium.webdriver.common.by import By\n",
    "from selenium.webdriver.common.action_chains import ActionChains\n",
    "from selenium.webdriver.common.keys import Keys\n",
    "import time\n",
    "\n",
    "# Desired sound link\n",
    "sound = 'https://www.tiktok.com/music/Wait-a-Minute-6523887078063739904?_d=secCgYIASAHKAESPgo8sqbRZTZ2zX9x%2B9rJuB8Cnjw65govDdGujaewNbXUHG7ntU2cVcCoNEgG1nbHd6AVrsvLVbVHbngFdGvEGgA%3D&_r=1&checksum=6831d41e6ef8e4fbde2a3b7eb60a92b702c0ad66ab0afda65128d52476991915&sec_user_id=MS4wLjABAAAAJ1nZQIh2C_NE4ByhWilkuou1mEX3kNOEPOO1MGZWLRMUyr5LJS4Tff9axmcQhR-M&share_app_id=1233&share_link_id=45645C49-D41F-4540-9FAA-4FE5518E2741&share_music_id=6523887078063739904&sharer_language=en&social_share_type=7&source=h5_m&timestamp=1713914993&tt_from=sms&u_code=daflb3i3ebfm06&ug_btm=b2878%2Cb5171&user_id=6786801162035053574&utm_campaign=client_share&utm_medium=ios&utm_source=sms'\n",
    "\n",
    "# Set up Chrome options\n",
    "options = Options()\n",
    "options.add_experimental_option(\"debuggerAddress\", \"127.0.0.1:9222\")\n",
    "options.add_argument(\"--headless\")  # Run Chrome in headless mode\n",
    "\n",
    "# Path to your ChromeDriver\n",
    "service = Service(ChromeDriverManager().install())\n",
    "\n",
    "# Connect to the existing Chrome browser session\n",
    "driver = webdriver.Chrome(service=service, options=options)\n",
    "\n",
    "# Interact with the existing browser session\n",
    "driver.get(sound)"
   ]
  },
  {
   "cell_type": "code",
   "execution_count": 58,
   "id": "fb268a25-2391-4774-b8f5-9d8d92d00b77",
   "metadata": {},
   "outputs": [
    {
     "data": {
      "text/plain": [
       "'WILLOW - Wait a Minute! | TikTok'"
      ]
     },
     "execution_count": 58,
     "metadata": {},
     "output_type": "execute_result"
    }
   ],
   "source": [
    "# Making sure we got the correct sound link\n",
    "driver.title"
   ]
  },
  {
   "cell_type": "markdown",
   "id": "e64cb706-6612-42c7-a5e3-ccf07ba5ac72",
   "metadata": {},
   "source": [
    "We will use the following class names to find useful HTML elements for scraping. We are creating variables for them so that if these classes change, we can insert the new class names here:\n",
    "\n",
    "CONTAINER_CLASS = \"eegew6e2\"\\\n",
    "VIDEO_CLASS = \"e19c29qe8\"\\\n",
    "DESC_CLASS = \"eih2qak4\"\\\n",
    "VIDEO_COUNT = \"ekmpd5l8\""
   ]
  },
  {
   "cell_type": "code",
   "execution_count": 44,
   "id": "7b5ee862-9ddc-4b17-bbae-5db12d7bb020",
   "metadata": {},
   "outputs": [],
   "source": [
    "CONTAINER_CLASS = \"eegew6e2\" \n",
    "VIDEO_CLASS = \"e19c29qe8\"\n",
    "DESC_CLASS = \"eih2qak4\""
   ]
  },
  {
   "cell_type": "markdown",
   "id": "54bbd4a1-c9ef-47fe-b1b3-f676d7e0b752",
   "metadata": {},
   "source": [
    "### Extracting Videos\n",
    "\n",
    "Here is a function that will get the posts (both URLs and descriptions of each video):"
   ]
  },
  {
   "cell_type": "code",
   "execution_count": 59,
   "id": "6152340f-efb2-4f9c-a7c9-96bb175f858f",
   "metadata": {},
   "outputs": [],
   "source": [
    "def getVideosAndDescriptions(driver):\n",
    "    \"\"\" \n",
    "    Given an open driver instance on a TikTok account page, \n",
    "    Get the list of accessible video URLs.\n",
    "    \"\"\"\n",
    "    # Get the container of the videos\n",
    "    try:\n",
    "        container = driver.find_element(By.CLASS_NAME, CONTAINER_CLASS)\n",
    "    except Exception as e:\n",
    "        print(f\"Container: An unexpected error occurred: {e}\")\n",
    "        return []\n",
    "\n",
    "    # Get the video elements\n",
    "    try:\n",
    "        posts = container.find_elements(By.CLASS_NAME, VIDEO_CLASS)\n",
    "    except Exception as e:\n",
    "        print(f\"Post: An unexpected error occurred: {e}\")\n",
    "        return []\n",
    "\n",
    "    # Get the URLs of the videos\n",
    "    try:\n",
    "        urls = [post.find_element(By.TAG_NAME, \"a\").get_attribute('href') for post in posts]\n",
    "    except Exception as e:\n",
    "        print(f\"URL: An unexpected error occurred: {e}\")\n",
    "        return []\n",
    "\n",
    "    # Get the description of each post. Since some of them don't have one, we'll add an empty string\n",
    "    descriptions = []\n",
    "    for post in posts:\n",
    "        try:\n",
    "            desc = post.find_element(By.CLASS_NAME, DESC_CLASS).text\n",
    "            descriptions.append(desc)\n",
    "        except:\n",
    "            descriptions.append('')\n",
    "\n",
    "    # Combine together urls and descriptions\n",
    "    print(\"Done extracting video data!\")\n",
    "    return list(zip(urls))"
   ]
  },
  {
   "cell_type": "markdown",
   "id": "3b489b87-157d-436b-87e5-5771d15b51fb",
   "metadata": {},
   "source": [
    "Now we can extract the videos for our desired sound!\n",
    "\n",
    "By default, when visiting the page of a TikTok sound, we only get a subset of the posts. If we want more, we need to scroll down.\n",
    "\n",
    "**Note:** The following block of code may take a couple of minutes to run!"
   ]
  },
  {
   "cell_type": "code",
   "execution_count": 60,
   "id": "2e5b52dc-29d4-4748-a250-414a71c2e4f9",
   "metadata": {},
   "outputs": [
    {
     "name": "stdout",
     "output_type": "stream",
     "text": [
      "Done scrolling!\n"
     ]
    }
   ],
   "source": [
    "def scroll_to_bottom(driver):\n",
    "    # Scroll down to the bottom of the page\n",
    "    driver.execute_script(\"window.scrollTo(0, document.body.scrollHeight);\")\n",
    "    \n",
    "    # Wait for a short interval to load more content\n",
    "    time.sleep(0.1) \n",
    "    \n",
    "for x in range(1000):\n",
    "    # Wait for a short interval before checking the page height again\n",
    "    time.sleep(1)\n",
    "    \n",
    "    # Scroll to the bottom of the page\n",
    "    scroll_to_bottom(driver)\n",
    "        \n",
    "    # Check if we have reached the bottom of the page\n",
    "    # By comparing the current and previous page heights\n",
    "    prev_height = driver.execute_script(\"return document.body.scrollHeight;\")\n",
    "    new_height = driver.execute_script(\"return document.body.scrollHeight;\")\n",
    "\n",
    "    # Scroll to the bottom of the page\n",
    "    scroll_to_bottom(driver)\n",
    "\n",
    "print(\"Done scrolling!\")"
   ]
  },
  {
   "cell_type": "markdown",
   "id": "b3728e92-e058-4fd7-a979-5d20bdec63c5",
   "metadata": {},
   "source": [
    "As we can see, by scrolling down, our document was able to access more videos, hopefully, the majority of posts. \n",
    "\n",
    "When scrolling, the posts don't disappear from the DOM; once they have been seen, they remain there. Thus, we can scroll and then stop and save all the posts.\n",
    "\n",
    "We can now call the function to get the posts and make sure we have all the videos. \n",
    "\n",
    "**Note:** The following block of code may take a couple of minutes to run!"
   ]
  },
  {
   "cell_type": "code",
   "execution_count": 61,
   "id": "16068047-35c9-4afa-af8e-6565dfc026f3",
   "metadata": {},
   "outputs": [
    {
     "name": "stdout",
     "output_type": "stream",
     "text": [
      "Done extracting video data!\n",
      "1087\n"
     ]
    }
   ],
   "source": [
    "posts = getVideosAndDescriptions(driver)\n",
    "print(len(posts))"
   ]
  },
  {
   "cell_type": "code",
   "execution_count": 62,
   "id": "769f0ac9-7ff6-4449-a89f-eadde871fd27",
   "metadata": {},
   "outputs": [
    {
     "name": "stdout",
     "output_type": "stream",
     "text": [
      "1087\n"
     ]
    }
   ],
   "source": [
    "print(len(posts))"
   ]
  },
  {
   "cell_type": "markdown",
   "id": "bae54acb-ae9d-40db-814e-7f27af337e04",
   "metadata": {},
   "source": [
    "If you were *not* able to get all the videos under your desired sound, run the following block of code; otherwise, skip this step!"
   ]
  },
  {
   "cell_type": "code",
   "execution_count": 63,
   "id": "d0c99000-3bbc-4f50-a81f-3a0dc07ff055",
   "metadata": {},
   "outputs": [
    {
     "name": "stdout",
     "output_type": "stream",
     "text": [
      "Done scrolling!\n"
     ]
    }
   ],
   "source": [
    "for x in range(1000):\n",
    "    # Scroll to the bottom of the page\n",
    "    scroll_to_bottom(driver)\n",
    "    \n",
    "    # Check if we have reached the bottom of the page\n",
    "    # By comparing the current and previous page heights\n",
    "    prev_height = driver.execute_script(\"return document.body.scrollHeight;\")\n",
    "    new_height = driver.execute_script(\"return document.body.scrollHeight;\")\n",
    "\n",
    "    # Scroll to the bottom of the page\n",
    "    scroll_to_bottom(driver)\n",
    "\n",
    "print(\"Done scrolling!\")"
   ]
  },
  {
   "cell_type": "code",
   "execution_count": 28,
   "id": "0014339b-3308-4bea-a6d5-e2dcdc34bf1a",
   "metadata": {},
   "outputs": [
    {
     "name": "stdout",
     "output_type": "stream",
     "text": [
      "Done extracting video data!\n",
      "1185\n"
     ]
    }
   ],
   "source": [
    "posts = getVideosAndDescriptions(driver)\n",
    "print(len(posts))"
   ]
  },
  {
   "cell_type": "markdown",
   "id": "ec9aa2cd-9d70-4dc3-a5a7-251ea816eab0",
   "metadata": {},
   "source": [
    "Now that we have all the available videos we can save them under a json file!"
   ]
  },
  {
   "cell_type": "code",
   "execution_count": 56,
   "id": "aee07177-ee22-4cce-853c-564a33d195a3",
   "metadata": {},
   "outputs": [],
   "source": [
    "import json\n",
    "with open(\"pyktok/raw/2022/gobadb.json\", 'w') as fout:\n",
    "    json.dump(posts, fout)"
   ]
  },
  {
   "cell_type": "code",
   "execution_count": null,
   "id": "2e385f33-2578-4e2f-aea9-25e5b6d17756",
   "metadata": {},
   "outputs": [],
   "source": []
  }
 ],
 "metadata": {
  "kernelspec": {
   "display_name": "Python 3 (ipykernel)",
   "language": "python",
   "name": "python3"
  },
  "language_info": {
   "codemirror_mode": {
    "name": "ipython",
    "version": 3
   },
   "file_extension": ".py",
   "mimetype": "text/x-python",
   "name": "python",
   "nbconvert_exporter": "python",
   "pygments_lexer": "ipython3",
   "version": "3.11.1"
  }
 },
 "nbformat": 4,
 "nbformat_minor": 5
}
