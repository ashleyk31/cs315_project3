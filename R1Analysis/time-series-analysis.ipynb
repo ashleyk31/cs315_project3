{
 "cells": [
  {
   "cell_type": "markdown",
   "metadata": {},
   "source": [
    "# Analysis on Types of Accounts / Types of Influencers\n",
    "\n",
    "Project 3 Research QUestion 1 Analysis Notebook <br>\n",
    "Ashley Kang"
   ]
  },
  {
   "cell_type": "markdown",
   "metadata": {},
   "source": [
    "### 1. Setting up the dataset / Creating Functions useful for our analysis"
   ]
  },
  {
   "cell_type": "markdown",
   "metadata": {},
   "source": [
    "We will be using master.csv, which is a dataset that contains all the information we scraped. "
   ]
  },
  {
   "cell_type": "code",
   "execution_count": 1,
   "metadata": {},
   "outputs": [],
   "source": [
    "import json\n",
    "import pandas as pd\n",
    "import numpy as np\n",
    "\n",
    "#read in the master csv file\n",
    "df = pd.DataFrame(pd.read_csv(\"master.csv\")) \n",
    "\n"
   ]
  },
  {
   "cell_type": "code",
   "execution_count": 2,
   "metadata": {},
   "outputs": [],
   "source": [
    "import math"
   ]
  },
  {
   "cell_type": "markdown",
   "metadata": {},
   "source": [
    "We need to convert the format of the timestamp because we will be using the timestamp values do our analysis. "
   ]
  },
  {
   "cell_type": "code",
   "execution_count": 3,
   "metadata": {},
   "outputs": [],
   "source": [
    "#remove the \"T\" in the timestamp and save it into a new column\n",
    "newlist = []\n",
    "\n",
    "for row in df['video_timestamp']:\n",
    "    timestamp = str(row).split('T')\n",
    "    newlist.append(\" \".join(timestamp))\n",
    "\n",
    "\n",
    "df['video_timestamp_new'] = newlist\n"
   ]
  },
  {
   "cell_type": "markdown",
   "metadata": {},
   "source": [
    "This is the influencer dictionary that has the different categories. We will be using this dictionary and the function influencer_type() to identify what type of influencer an author is. "
   ]
  },
  {
   "cell_type": "code",
   "execution_count": 4,
   "metadata": {},
   "outputs": [],
   "source": [
    "#dictionary with the range of followers to identify influencer type\n",
    "influencerDict = {'none': range(0, 1000),\n",
    "                  'nano':  range(1000,10000), \n",
    "                  'micro': range (10000,100000),\n",
    "                  'macro': range(100000,1000000), \n",
    "                  'mega': range(1000000, 1000000000000000000000000000000000000000)}\n",
    "\n",
    "influencerDict['NaN'] =  range(-1,0)"
   ]
  },
  {
   "cell_type": "code",
   "execution_count": 5,
   "metadata": {},
   "outputs": [],
   "source": [
    "#function for identifying type of influencer\n",
    "\n",
    "def influencer_type(number):\n",
    "    if math.isnan(float(number)): \n",
    "        #if the number of followers is not a number (aka NaN values)\n",
    "        return 'NaN'\n",
    "    for category, number_range in influencerDict.items():\n",
    "        if number in number_range:\n",
    "            return category\n",
    "    else:\n",
    "        return 'unknown'"
   ]
  },
  {
   "cell_type": "markdown",
   "metadata": {},
   "source": [
    "### 2. Time-Series Code"
   ]
  },
  {
   "cell_type": "code",
   "execution_count": 6,
   "metadata": {},
   "outputs": [],
   "source": [
    "from collections import Counter"
   ]
  },
  {
   "cell_type": "code",
   "execution_count": 7,
   "metadata": {},
   "outputs": [],
   "source": [
    "from pandas import Series\n",
    "import matplotlib.pyplot as plt\n",
    "import pandas as pd"
   ]
  },
  {
   "cell_type": "code",
   "execution_count": 12,
   "metadata": {},
   "outputs": [],
   "source": [
    "def makeTS(filename):\n",
    "    df = pd.DataFrame(pd.read_csv(filename))\n",
    "\n",
    "    newlist = []\n",
    "\n",
    "    for row in df['video_timestamp']:\n",
    "        timestamp = str(row).split('T')\n",
    "        newlist.append(\" \".join(timestamp))\n",
    "\n",
    "    df['video_timestamp_new'] = newlist\n",
    "\n",
    "    dates = pd.to_datetime(df['video_timestamp_new'], errors = 'coerce')\n",
    "    df.dropna(subset=['video_timestamp_new'], inplace=True)\n",
    "\n",
    "    df['author_followercount'] = pd.to_numeric(df['author_followercount'], errors='coerce')\n",
    "    \n",
    "    df = df.iloc[:len(df['video_timestamp_new'])]\n",
    "\n",
    "    ts = pd.Series(data=df['author_followercount'].tolist(), index=dates)\n",
    "    return ts\n",
    "\n",
    "def makeSubplot(ts,period,axs,ax,color,label):\n",
    "    watches = ts.resample(period).count()\n",
    "    \n",
    "    if period =='W':\n",
    "        time = 'week'\n",
    "    elif period == 'M':\n",
    "        time = 'month'\n",
    "    elif period == 'D':\n",
    "        time = 'day' \n",
    "        \n",
    "    axs[ax].plot(watches.index,watches,color=color, label=label)\n",
    "    #axs[ax].legend()\n",
    "    \n",
    "def makePlot(data,period):\n",
    "    fig, axs = plt.subplots(len(data), 1, figsize=(10,len(data)*2))\n",
    "    \n",
    "    for i in range(len(data)):\n",
    "        filename = data[i]\n",
    "        ts = makeTS(filename)\n",
    "        color = plt.cm.viridis(i / len(data))  # Generate color based on position\n",
    "        label = filename[8:-5]\n",
    "        makeSubplot(ts,period,axs,i,color,label)\n",
    "        axs[i].set_xlim(pd.Timestamp('2020-03-01'), pd.Timestamp('2022-12-31'))\n",
    "        \n",
    "    codes = [file for file in data]\n",
    "    fig.legend(codes, loc='upper right')\n",
    "    \n",
    "    plt.tight_layout()\n",
    "    plt.show()"
   ]
  },
  {
   "cell_type": "code",
   "execution_count": 13,
   "metadata": {},
   "outputs": [
    {
     "data": {
      "image/png": "[encoded data removed]",
      "text/plain": [
       "<Figure size 1000x800 with 4 Axes>"
      ]
     },
     "metadata": {},
     "output_type": "display_data"
    }
   ],
   "source": [
    "#2021 timeseries\n",
    "data = ['fancylike.csv','heartbreak.csv','savage.csv', 'up.csv']\n",
    "makePlot(data,'W')"
   ]
  },
  {
   "cell_type": "code",
   "execution_count": 15,
   "metadata": {},
   "outputs": [
    {
     "data": {
      "image/png": "[encoded data removed]",
      "text/plain": [
       "<Figure size 1000x600 with 3 Axes>"
      ]
     },
     "metadata": {},
     "output_type": "display_data"
    }
   ],
   "source": [
    "#2022 timeseries\n",
    "def makePlot(data, period):\n",
    "    fig, axs = plt.subplots(len(data), 1, figsize=(10, len(data) * 2))\n",
    "    \n",
    "    for i in range(len(data)):\n",
    "        filename = data[i]\n",
    "        ts = makeTS(filename)\n",
    "        color = plt.cm.viridis(i / len(data)) \n",
    "        label = filename\n",
    "        makeSubplot(ts, period, axs, i, color, label)\n",
    "        \n",
    "        #axis for 2021\n",
    "        #axs[i].set_xlim(pd.Timestamp('2020-03-01'), pd.Timestamp('2022-12-31'))\n",
    "        \n",
    "        #axis for 2022\n",
    "        axs[i].set_xlim(pd.Timestamp('2021-11-01'), pd.Timestamp('2024-05-31'))\n",
    "        \n",
    "        #axis for 2023\n",
    "        #axs[i].set_xlim(pd.Timestamp('2023-01-01'), pd.Timestamp('2024-05-31'))\n",
    "        \n",
    "        #axis for 2024\n",
    "        #axs[i].set_xlim(pd.Timestamp('2023-08-01'), pd.Timestamp('2024-05-31'))\n",
    "        \n",
    "        #print(\"Maximum count timestamp for\", label, \":\", peak_timestamp)\n",
    "\n",
    "    codes = [file for file in data]\n",
    "    fig.legend(codes, loc='upper right')\n",
    "        \n",
    "    plt.tight_layout()\n",
    "    plt.show()\n",
    "\n",
    "\n",
    "\n",
    "#2022 time-series\n",
    "#uncomment the corresponding axes from the makePlot() function\n",
    "data2022 = ['conceited.csv', 'nowahala.csv', 'sweaterweather.csv']\n",
    "makePlot(data2022, 'W')"
   ]
  },
  {
   "cell_type": "code",
   "execution_count": 16,
   "metadata": {},
   "outputs": [
    {
     "data": {
      "image/png": "[encoded data removed]",
      "text/plain": [
       "<Figure size 1000x1000 with 5 Axes>"
      ]
     },
     "metadata": {},
     "output_type": "display_data"
    }
   ],
   "source": [
    "#2023 time-series\n",
    "#uncomment the corresponding axes from the makePlot() function\n",
    "def makePlot(data, period):\n",
    "    fig, axs = plt.subplots(len(data), 1, figsize=(10, len(data) * 2))\n",
    "    \n",
    "    for i in range(len(data)):\n",
    "        filename = data[i]\n",
    "        ts = makeTS(filename)\n",
    "        color = plt.cm.viridis(i / len(data)) \n",
    "        label = filename\n",
    "        makeSubplot(ts, period, axs, i, color, label)\n",
    "        \n",
    "        #axis for 2021\n",
    "        #axs[i].set_xlim(pd.Timestamp('2020-03-01'), pd.Timestamp('2022-12-31'))\n",
    "        \n",
    "        #axis for 2022\n",
    "        #axs[i].set_xlim(pd.Timestamp('2021-11-01'), pd.Timestamp('2024-05-31'))\n",
    "        \n",
    "        #axis for 2023\n",
    "        axs[i].set_xlim(pd.Timestamp('2023-01-01'), pd.Timestamp('2024-05-31'))\n",
    "        \n",
    "        #axis for 2024\n",
    "        #axs[i].set_xlim(pd.Timestamp('2023-08-01'), pd.Timestamp('2024-05-31'))\n",
    "        \n",
    "        \n",
    "        #print(\"Maximum count timestamp for\", label, \":\", peak_timestamp)\n",
    "    \n",
    "    codes = [file for file in data]\n",
    "    fig.legend(codes, loc='upper right')\n",
    "    \n",
    "    plt.tight_layout()\n",
    "    plt.show()\n",
    "\n",
    "\n",
    "data2023 = ['dropittothefloor.csv', 'itgirl.csv', 'mwahmwah.csv', 'thisyear.csv', 'watertyla.csv']\n",
    "makePlot(data2023, 'W')"
   ]
  },
  {
   "cell_type": "code",
   "execution_count": 18,
   "metadata": {},
   "outputs": [
    {
     "data": {
      "image/png": "[encoded data removed]",
      "text/plain": [
       "<Figure size 1000x800 with 4 Axes>"
      ]
     },
     "metadata": {},
     "output_type": "display_data"
    }
   ],
   "source": [
    "#2024 time-series\n",
    "#uncomment the corresponding axes from the makePlot() function\n",
    "\n",
    "def makePlot(data, period):\n",
    "    fig, axs = plt.subplots(len(data), 1, figsize=(10, len(data) * 2))\n",
    "    \n",
    "    for i in range(len(data)):\n",
    "        filename = data[i]\n",
    "        ts = makeTS(filename)\n",
    "        color = plt.cm.viridis(i / len(data)) \n",
    "        label = filename\n",
    "        makeSubplot(ts, period, axs, i, color, label)\n",
    "        \n",
    "        #axis for 2021\n",
    "        #axs[i].set_xlim(pd.Timestamp('2020-03-01'), pd.Timestamp('2022-12-31'))\n",
    "        \n",
    "        #axis for 2022\n",
    "        #axs[i].set_xlim(pd.Timestamp('2021-11-01'), pd.Timestamp('2024-05-31'))\n",
    "        \n",
    "        #axis for 2023\n",
    "        #axs[i].set_xlim(pd.Timestamp('2023-01-01'), pd.Timestamp('2024-05-31'))\n",
    "        \n",
    "        #axis for 2024\n",
    "        axs[i].set_xlim(pd.Timestamp('2023-08-01'), pd.Timestamp('2024-05-31'))\n",
    "        \n",
    "        \n",
    "        #print(\"Maximum count timestamp for\", label, \":\", peak_timestamp)\n",
    "\n",
    "\n",
    "    codes = [file for file in data]\n",
    "    fig.legend(codes, loc='upper right')\n",
    "    \n",
    "    plt.tight_layout()\n",
    "    plt.show()\n",
    "\n",
    "\n",
    "data2024 = ['flomilli.csv', 'glo.csv', 'tyla.csv', 'wannabe.csv']\n",
    "makePlot(data2024, 'W')"
   ]
  },
  {
   "cell_type": "markdown",
   "metadata": {},
   "source": [
    "### Original Post Information\n",
    "\n",
    "only available for three songs (hearbreak, drop, mwah)"
   ]
  },
  {
   "cell_type": "code",
   "execution_count": 19,
   "metadata": {},
   "outputs": [],
   "source": [
    "from datetime import datetime, timedelta"
   ]
  },
  {
   "cell_type": "code",
   "execution_count": 20,
   "metadata": {},
   "outputs": [
    {
     "name": "stderr",
     "output_type": "stream",
     "text": [
      "/var/folders/zh/lh50ntf51kvdjr8cmpd9y7840000gn/T/ipykernel_38992/730779995.py:5: SettingWithCopyWarning: \n",
      "A value is trying to be set on a copy of a slice from a DataFrame.\n",
      "Try using .loc[row_indexer,col_indexer] = value instead\n",
      "\n",
      "See the caveats in the documentation: https://pandas.pydata.org/pandas-docs/stable/user_guide/indexing.html#returning-a-view-versus-a-copy\n",
      "  subset_df['video_playcount_int'] = pd.to_numeric(subset_df['video_playcount'], errors='coerce')\n",
      "/var/folders/zh/lh50ntf51kvdjr8cmpd9y7840000gn/T/ipykernel_38992/730779995.py:21: SettingWithCopyWarning: \n",
      "A value is trying to be set on a copy of a slice from a DataFrame.\n",
      "Try using .loc[row_indexer,col_indexer] = value instead\n",
      "\n",
      "See the caveats in the documentation: https://pandas.pydata.org/pandas-docs/stable/user_guide/indexing.html#returning-a-view-versus-a-copy\n",
      "  originalVid_df['video_timeNew'] = editedDateFormat\n"
     ]
    }
   ],
   "source": [
    "originalVideos = ['heartbreak.csv', 'dropittothefloor.csv', 'mwahmwah.csv']\n",
    "originalVid_df = pd.DataFrame()\n",
    "\n",
    "subset_df = df[(df['sound'] == 'heartbreak') | (df['sound'] == 'dropittothefloor') | (df['sound'] == 'mwahmwah')]\n",
    "subset_df['video_playcount_int'] = pd.to_numeric(subset_df['video_playcount'], errors='coerce')\n",
    "\n",
    "originalVid_df = subset_df[(pd.notna(subset_df['video_playcount_int'])) & (subset_df['video_playcount_int'] > 100000)]\n",
    "\n",
    "\n",
    "#date format so that only the year, month, and day is shown\n",
    "editedDateFormat = []\n",
    "\n",
    "# extract and add a new column\n",
    "for row in originalVid_df['video_timestamp_new']:\n",
    "    rowdate = str(row)[0:10]\n",
    "    #rowdatefinal = pd.to_datetime(rowdate, errors='coerce').dt.date\n",
    "    rowdatefinal = pd.to_datetime(rowdate, errors='coerce')\n",
    "    editedDateFormat.append(rowdatefinal)\n",
    "    \n",
    "\n",
    "originalVid_df['video_timeNew'] = editedDateFormat"
   ]
  },
  {
   "cell_type": "code",
   "execution_count": 21,
   "metadata": {},
   "outputs": [],
   "source": [
    "heartbreakDF = originalVid_df[originalVid_df['sound']=='heartbreak']\n",
    "dropDF = originalVid_df[originalVid_df['sound']=='dropittothefloor']\n",
    "mwahDF = originalVid_df[originalVid_df['sound']=='mwahmwah']"
   ]
  },
  {
   "cell_type": "code",
   "execution_count": 22,
   "metadata": {},
   "outputs": [
    {
     "name": "stdout",
     "output_type": "stream",
     "text": [
      "[7700000.0, 10800000.0, 3300000.0]\n",
      "Counter({'mega': 3})\n"
     ]
    }
   ],
   "source": [
    "heartbreakDay1 = datetime.strptime('2021-02-10', '%Y-%m-%d')\n",
    "heartbreakOriginalSubset = heartbreakDF[heartbreakDF['video_timeNew'] == heartbreakDay1]\n",
    "#three videos posted on the original post day\n",
    "\n",
    "heartbreakInfluencer = []\n",
    "heartbreakFollowerCount = []\n",
    "\n",
    "for followercount in heartbreakOriginalSubset['author_followercount']:\n",
    "    heartbreakFollowerCount.append(followercount)\n",
    "    heartbreakInfluencer.append(influencer_type(followercount))\n",
    "\n",
    "#print(heartbreakOriginalSubset['video_timeNew'])\n",
    "print(heartbreakFollowerCount)\n",
    "counterHeartOriginal = Counter(heartbreakInfluencer)\n",
    "print(counterHeartOriginal)\n",
    "#all three are mega influencers\n"
   ]
  },
  {
   "cell_type": "code",
   "execution_count": 23,
   "metadata": {},
   "outputs": [
    {
     "name": "stdout",
     "output_type": "stream",
     "text": [
      "[316600.0]\n",
      "Counter({'macro': 1})\n"
     ]
    }
   ],
   "source": [
    "dropDay1 =  datetime.strptime('2023-08-24', '%Y-%m-%d')\n",
    "dropOriginalSubset = dropDF[dropDF['video_timeNew'] == dropDay1]\n",
    "#one videos posted on the original post day\n",
    "\n",
    "dropInfluencer = []\n",
    "dropFollowerCount = []\n",
    "\n",
    "for followercount in dropOriginalSubset['author_followercount']:\n",
    "    dropFollowerCount.append(followercount)\n",
    "    dropInfluencer.append(influencer_type(followercount))\n",
    "\n",
    "print(dropFollowerCount)\n",
    "counterDropOriginal = Counter(dropInfluencer)\n",
    "print(counterDropOriginal)\n",
    "#macro influencer\n"
   ]
  },
  {
   "cell_type": "code",
   "execution_count": 24,
   "metadata": {},
   "outputs": [
    {
     "name": "stdout",
     "output_type": "stream",
     "text": [
      "[26300.0]\n",
      "Counter({'micro': 1})\n"
     ]
    }
   ],
   "source": [
    "mwahDay1 = datetime.strptime('2023-04-09', '%Y-%m-%d')\n",
    "mwahOriginalSubset = mwahDF[mwahDF['video_timeNew']==mwahDay1]\n",
    "#one videos posted on the original post day\n",
    "\n",
    "mwahInfluencer = []\n",
    "mwahFollowerCount = []\n",
    "\n",
    "for followercount in mwahOriginalSubset['author_followercount']:\n",
    "    mwahFollowerCount.append(followercount)\n",
    "    mwahInfluencer.append(influencer_type(followercount))\n",
    "\n",
    "print(mwahFollowerCount)\n",
    "counterMwahOriginal = Counter(mwahInfluencer)\n",
    "print(counterMwahOriginal)\n",
    "#micro influencer\n"
   ]
  },
  {
   "cell_type": "markdown",
   "metadata": {},
   "source": [
    "### Peak Post Information\n",
    "\n",
    "\n",
    "available for all trends (but this section is for the three songs with the original post)"
   ]
  },
  {
   "cell_type": "code",
   "execution_count": 31,
   "metadata": {},
   "outputs": [
    {
     "name": "stdout",
     "output_type": "stream",
     "text": [
      "2021-02-21\n",
      "74\n"
     ]
    }
   ],
   "source": [
    "heartbreakmaxdate = max(Counter(heartbreakDF['video_timeNew']), key = Counter(heartbreakDF['video_timeNew']).get)\n",
    "stringdateHB = str(heartbreakmaxdate)[0:10]\n",
    "heartbreakmaxdateConverted = datetime.strptime(stringdateHB, '%Y-%m-%d')\n",
    "hearbreakFinalDate = heartbreakmaxdateConverted.date()\n",
    "\n",
    "heartbreakcounter = (Counter(heartbreakDF['video_timeNew']))\n",
    "heartbreakmaxvideoValue = heartbreakcounter[heartbreakmaxdate]\n",
    "\n",
    "print(hearbreakFinalDate)\n",
    "print(heartbreakmaxvideoValue)\n"
   ]
  },
  {
   "cell_type": "code",
   "execution_count": 26,
   "metadata": {},
   "outputs": [
    {
     "name": "stdout",
     "output_type": "stream",
     "text": [
      "[4140.0, 17500.0, 196500.0, 3000000.0, 2440.0, 2300000.0, 1600000.0, 4613.0, 13300000.0, 81500.0, 963.0, 2400000.0, 40500.0, 37800.0, 111000.0, 938800.0, 3000000.0, 32200.0, 991.0, 834300.0, 20000.0, 12000.0, 1600000.0, 2600000.0, 2400000.0, 2600000.0, 42900.0, 1100000.0, 122500.0, 460400.0, 324200.0, 240700.0, 112200.0, 64599.0, 3891.0, 4099999.0, 3100000.0, 1799.0, 339500.0, 121000.0, 17600.0, 563100.0, 2400000.0, 1500000.0, 40300.0, 494800.0, 133800.0, 668.0, 784200.0, 1700000.0, 1700000.0, 2976.0, 81300.0, 22700000.0, 3000000.0, 146400.0, 749100.0, 56200.0, 23400.0, 98000.0, 750000.0, 4611.0, 1621.0, 1022.0, 5400000.0, 9951.0, 1200000.0, 11700000.0, 8100000.0, 5441.0, 10800.0, 1790.0, 4741.0, 2700000.0]\n",
      "Counter({'mega': 24, 'macro': 18, 'micro': 16, 'nano': 13, 'none': 3})\n"
     ]
    }
   ],
   "source": [
    "heartbreakPeak = datetime.strptime('2021-02-21', '%Y-%m-%d')\n",
    "heartbreakPeakSubset = heartbreakDF[heartbreakDF['video_timeNew'] == heartbreakPeak]\n",
    "#74 videos posted on the peak\n",
    "\n",
    "heartbreakInfluencerPEAK = []\n",
    "heartbreakFollowerCountPEAK = []\n",
    "\n",
    "for followercount in heartbreakPeakSubset['author_followercount']:\n",
    "    heartbreakFollowerCountPEAK.append(followercount)\n",
    "    heartbreakInfluencerPEAK.append(influencer_type(followercount))\n",
    "\n",
    "\n",
    "print(heartbreakFollowerCountPEAK)\n",
    "counterHeartPeak = Counter(heartbreakInfluencerPEAK)\n",
    "print(counterHeartPeak)\n",
    "\n"
   ]
  },
  {
   "cell_type": "code",
   "execution_count": 32,
   "metadata": {},
   "outputs": [
    {
     "name": "stdout",
     "output_type": "stream",
     "text": [
      "2023-12-10\n",
      "4\n"
     ]
    }
   ],
   "source": [
    "dropmaxdate = max(Counter(dropDF['video_timeNew']), key = Counter(dropDF['video_timeNew']).get)\n",
    "stringdateDROP = str(dropmaxdate)[0:10]\n",
    "dropmaxdateConverted = datetime.strptime(stringdateDROP, '%Y-%m-%d')\n",
    "dropFinalDate = dropmaxdateConverted.date()\n",
    "\n",
    "dropcounter = (Counter(dropDF['video_timeNew']))\n",
    "dropmaxvideoValue = dropcounter[dropmaxdate]\n",
    "#dropmaxdate = dropmaxdate.date()\n",
    "\n",
    "print(dropFinalDate)\n",
    "print(dropmaxvideoValue)"
   ]
  },
  {
   "cell_type": "code",
   "execution_count": 33,
   "metadata": {},
   "outputs": [
    {
     "name": "stdout",
     "output_type": "stream",
     "text": [
      "[26300.0, 2040.0, 173800.0, 725300.0]\n",
      "Counter({'macro': 2, 'micro': 1, 'nano': 1})\n"
     ]
    }
   ],
   "source": [
    "dropPeak = datetime.strptime('2023-12-10', '%Y-%m-%d')\n",
    "dropPeakSubset = dropDF[dropDF['video_timeNew'] == dropPeak]\n",
    "#four videos posted at peak\n",
    "\n",
    "dropInfluencerPEAK = []\n",
    "dropFollowerCountPEAK = []\n",
    "\n",
    "for followercount in dropPeakSubset['author_followercount']:\n",
    "    dropFollowerCountPEAK.append(followercount)\n",
    "    dropInfluencerPEAK.append(influencer_type(followercount))\n",
    "\n",
    "print(dropFollowerCountPEAK)\n",
    "counterDropPeak = Counter(dropInfluencerPEAK)\n",
    "print(counterDropPeak)\n"
   ]
  },
  {
   "cell_type": "code",
   "execution_count": 34,
   "metadata": {},
   "outputs": [
    {
     "name": "stdout",
     "output_type": "stream",
     "text": [
      "2023-11-22\n",
      "51\n"
     ]
    }
   ],
   "source": [
    "mwahmaxdate = max(Counter(mwahDF['video_timeNew']), key = Counter(mwahDF['video_timeNew']).get)\n",
    "stringdateMWAH = str(mwahmaxdate)[0:10]\n",
    "mwahmaxdateConverted = datetime.strptime(stringdateMWAH, '%Y-%m-%d')\n",
    "mwahFinalDate = mwahmaxdateConverted.date()\n",
    "\n",
    "\n",
    "mwahcounter = (Counter(mwahDF['video_timeNew']))\n",
    "mwahmaxvideoValue = mwahcounter[mwahmaxdate]\n",
    "\n",
    "\n",
    "\n",
    "print(mwahFinalDate)\n",
    "print(mwahmaxvideoValue)"
   ]
  },
  {
   "cell_type": "code",
   "execution_count": 35,
   "metadata": {},
   "outputs": [
    {
     "name": "stdout",
     "output_type": "stream",
     "text": [
      "[6863.0, 164800.0, 498500.0, 1400000.0, 10500000.0, 410400.0, 2200000.0, 1450.0, 60200.0, 19900000.0, 209000.0, 74700.0, 22300000.0, 3800000.0, 2600000.0, 920300.0, 484100.0, nan, 26000000.0, 2200000.0, 781800.0, 338300.0, 2300000.0, 3000000.0, 652400.0, 2400000.0, 103600.0, 14500000.0, 4300000.0, 78600.0, 489000.0, 4095.0, 7500000.0, 5600000.0, 215700.0, 19400000.0, 75400.0, 722700.0, 6000000.0, 1100000.0, 4500000.0, 9700000.0, 30500.0, 147800.0, 255700.0, 180400.0, 2800000.0, 86300.0, 516.0, 758.0, 154400.0]\n",
      "Counter({'mega': 22, 'macro': 17, 'micro': 6, 'nano': 3, 'none': 2, 'NaN': 1})\n"
     ]
    }
   ],
   "source": [
    "mwahmwahPeak = datetime.strptime('2023-11-22', '%Y-%m-%d')\n",
    "mwahmwahPeakSubset = mwahDF[mwahDF['video_timeNew'] == mwahmwahPeak]\n",
    "\n",
    "\n",
    "mwahInfluencerPEAK = []\n",
    "mwahFollowerCountPEAK = []\n",
    "\n",
    "for followercount in mwahmwahPeakSubset['author_followercount']:\n",
    "    mwahFollowerCountPEAK.append(followercount)\n",
    "    mwahInfluencerPEAK.append(influencer_type(followercount))\n",
    "\n",
    "print(mwahFollowerCountPEAK)\n",
    "counterMwahPeak = Counter(mwahInfluencerPEAK)\n",
    "print(counterMwahPeak)"
   ]
  },
  {
   "cell_type": "markdown",
   "metadata": {},
   "source": [
    "### Middle Post Information\n",
    "\n",
    "\n",
    "available for all trends (but this section is for the three songs with the original post)"
   ]
  },
  {
   "cell_type": "code",
   "execution_count": 36,
   "metadata": {},
   "outputs": [],
   "source": [
    "from datetime import datetime"
   ]
  },
  {
   "cell_type": "code",
   "execution_count": 37,
   "metadata": {},
   "outputs": [],
   "source": [
    "heartbreak_middate = heartbreakDay1.date() + (hearbreakFinalDate - heartbreakDay1.date()) / 2\n",
    "\n",
    "drop_middate = dropDay1.date() + (dropFinalDate - dropDay1.date()) / 2\n",
    "\n",
    "mwah_middate = mwahDay1.date() + (mwahFinalDate - mwahDay1.date()) / 2"
   ]
  },
  {
   "cell_type": "code",
   "execution_count": 38,
   "metadata": {},
   "outputs": [
    {
     "name": "stdout",
     "output_type": "stream",
     "text": [
      "2021-02-15\n",
      "2023-10-17\n",
      "2023-07-31\n"
     ]
    }
   ],
   "source": [
    "print(heartbreak_middate)\n",
    "print(drop_middate)\n",
    "print(mwah_middate)"
   ]
  },
  {
   "cell_type": "code",
   "execution_count": 39,
   "metadata": {},
   "outputs": [
    {
     "name": "stdout",
     "output_type": "stream",
     "text": [
      "[16900.0, 113200.0, 13200000.0, 13200000.0, 359300.0, 3400000.0, 3200000.0, 14400.0, 17000000.0, 9500000.0, 863000.0, 11700000.0, 13.0]\n",
      "Counter({'mega': 7, 'macro': 3, 'micro': 2, 'none': 1})\n"
     ]
    }
   ],
   "source": [
    "heartbreakMiddleDate = datetime.strptime('2021-02-15', '%Y-%m-%d')\n",
    "heartbreakMidSubset = heartbreakDF[heartbreakDF['video_timeNew']==heartbreakMiddleDate]\n",
    "#13 videos posted on this day\n",
    "\n",
    "heartbreakInfluencerMID = []\n",
    "heartbreakFollowerCountMID = []\n",
    "\n",
    "for followercount in heartbreakMidSubset['author_followercount']:\n",
    "    heartbreakFollowerCountMID.append(followercount)\n",
    "    heartbreakInfluencerMID.append(influencer_type(followercount))\n",
    "\n",
    "print(heartbreakFollowerCountMID)\n",
    "counterHeartMiddle = Counter(heartbreakInfluencerMID)\n",
    "print(counterHeartMiddle)\n",
    "\n"
   ]
  },
  {
   "cell_type": "code",
   "execution_count": 40,
   "metadata": {},
   "outputs": [
    {
     "name": "stdout",
     "output_type": "stream",
     "text": [
      "[422900.0, 7900000.0, 6907.0]\n",
      "Counter({'macro': 1, 'mega': 1, 'nano': 1})\n"
     ]
    }
   ],
   "source": [
    "dropMiddleDate =  datetime.strptime('2023-10-10', '%Y-%m-%d')\n",
    "dropMidSubset = dropDF[dropDF['video_timeNew'] == dropMiddleDate]\n",
    "#three videos posted on this day (had to change the date because no videos were posted on the mid date)\n",
    "\n",
    "dropInfluencerMID = []\n",
    "dropFollowerCountMID = []\n",
    "\n",
    "for followercount in dropMidSubset['author_followercount']:\n",
    "    dropFollowerCountMID.append(followercount)\n",
    "    dropInfluencerMID.append(influencer_type(followercount))\n",
    "\n",
    "print(dropFollowerCountMID)\n",
    "counterDropMiddle = Counter(dropInfluencerMID)\n",
    "print(counterDropMiddle)"
   ]
  },
  {
   "cell_type": "code",
   "execution_count": 41,
   "metadata": {},
   "outputs": [
    {
     "name": "stdout",
     "output_type": "stream",
     "text": [
      "[4900000.0, 3200000.0]\n",
      "Counter({'mega': 2})\n"
     ]
    }
   ],
   "source": [
    "mwahMiddleDate = datetime.strptime('2023-07-24', '%Y-%m-%d')\n",
    "mwahMiddleSubset = mwahDF[mwahDF['video_timeNew']==mwahMiddleDate]\n",
    "#two videos posted on this day (also had to change the date because no videos were posted)\n",
    "\n",
    "mwahInfluencerMID = []\n",
    "mwahFollowerCountMID = []\n",
    "\n",
    "for followercount in mwahMiddleSubset['author_followercount']:\n",
    "    mwahFollowerCountMID.append(followercount)\n",
    "    mwahInfluencerMID.append(influencer_type(followercount))\n",
    "\n",
    "print(mwahFollowerCountMID)\n",
    "counterMwahMiddle = Counter(mwahInfluencerMID)\n",
    "print(counterMwahMiddle)\n",
    "#both mega influencers\n"
   ]
  },
  {
   "cell_type": "markdown",
   "metadata": {},
   "source": [
    "### Convert Counters to Lists and Values and Plot\n",
    "\n",
    "focusing on the three trends with the original posts"
   ]
  },
  {
   "cell_type": "code",
   "execution_count": 47,
   "metadata": {},
   "outputs": [],
   "source": [
    "def convertToList(category_counts):\n",
    "    categories = influencerDict.keys()\n",
    "\n",
    "    category_list = [0] * len(categories)\n",
    "\n",
    "    #convert counter format into list\n",
    "    for i, category in enumerate(categories):\n",
    "        category_list[i] = category_counts.get(category, 0)\n",
    "    \n",
    "    return category_list\n"
   ]
  },
  {
   "cell_type": "code",
   "execution_count": 48,
   "metadata": {},
   "outputs": [],
   "source": [
    "VideosWithOriginalList = [counterHeartOriginal, counterHeartMiddle, counterHeartPeak, \n",
    "             counterDropOriginal, counterDropMiddle, counterDropPeak, \n",
    "             counterMwahOriginal, counterMwahMiddle, counterMwahPeak]\n",
    "\n",
    "\n",
    "CounterList = []\n",
    "for list in VideosWithOriginalList:\n",
    "    CounterList.append(convertToList(list))\n",
    "\n",
    "\n",
    "heartbreakList = CounterList[0:3]\n",
    "dropList = CounterList[3: 6]\n",
    "mwahList = CounterList[6: 9]"
   ]
  },
  {
   "cell_type": "code",
   "execution_count": 54,
   "metadata": {},
   "outputs": [
    {
     "data": {
      "image/png": "[encoded data removed]",
      "text/plain": [
       "<Figure size 640x480 with 1 Axes>"
      ]
     },
     "metadata": {},
     "output_type": "display_data"
    }
   ],
   "source": [
    "labels = ['initial', 'midpoint', 'peak']\n",
    "\n",
    "none = []\n",
    "nano = []\n",
    "micro = []\n",
    "macro = []\n",
    "mega = []\n",
    "nan = []\n",
    "\n",
    "#assign the values to the tier lists\n",
    "for inner_list in heartbreakList:\n",
    "    none.append(inner_list[0])\n",
    "    nano.append(inner_list[1])\n",
    "    micro.append(inner_list[2])\n",
    "    macro.append(inner_list[3])\n",
    "    mega.append(inner_list[4])\n",
    "    nan.append(inner_list[5])\n",
    "        \n",
    "\n",
    "#width of the bars\n",
    "bar_width = 0.1\n",
    "r1 = range(len(labels))\n",
    "r2 = [x + bar_width for x in r1]\n",
    "r3 = [x + bar_width for x in r2]\n",
    "r4 = [x + bar_width for x in r3]\n",
    "r5 = [x + bar_width for x in r4]\n",
    "r6 = [x + bar_width for x in r5]\n",
    "\n",
    "#set colors\n",
    "color = ['mistyrose', 'lightpink', 'darkseagreen', 'mediumaquamarine', 'lightskyblue', 'lightsteelblue']\n",
    "\n",
    "#plot\n",
    "plt.bar(r1, none, color=color[0], width=bar_width, label='none')\n",
    "plt.bar(r2, nano, color=color[1], width=bar_width, label='nano')\n",
    "plt.bar(r3, micro, color=color[2], width=bar_width, label='micro')\n",
    "plt.bar(r4, macro, color=color[3], width=bar_width, label='macro')\n",
    "plt.bar(r5, mega, color=color[4], width=bar_width, label='mega')\n",
    "plt.bar(r6, nan, color=color[5], width=bar_width, label='nan')\n",
    "\n",
    "#labels\n",
    "plt.xlabel('Pivotal Time Points')\n",
    "plt.ylabel('Counts of Videos Posted')\n",
    "plt.title('Year 2021 Trend  (Heartbreak Anniversary)')\n",
    "plt.xticks([r + bar_width/2 for r in range(len(labels))], labels)\n",
    "plt.ylim(0, 80)\n",
    "\n",
    "#legend on the upper left\n",
    "plt.legend(bbox_to_anchor=(1.02, 1), loc='upper left', borderaxespad=0)\n",
    "\n",
    "#plot\n",
    "plt.show()"
   ]
  },
  {
   "cell_type": "code",
   "execution_count": 57,
   "metadata": {},
   "outputs": [
    {
     "data": {
      "image/png": "[encoded data removed]",
      "text/plain": [
       "<Figure size 640x480 with 1 Axes>"
      ]
     },
     "metadata": {},
     "output_type": "display_data"
    }
   ],
   "source": [
    "labels = ['initial', 'midpoint', 'peak']\n",
    "\n",
    "none = []\n",
    "nano = []\n",
    "micro = []\n",
    "macro = []\n",
    "mega = []\n",
    "nan = []\n",
    "\n",
    "#add the lists together\n",
    "addedList = []\n",
    "\n",
    "for list1, list2 in zip(dropList, mwahList):\n",
    "    result = []\n",
    "    for x, y in zip(list1, list2):\n",
    "        result.append(x + y)\n",
    "    addedList.append(result)\n",
    "\n",
    "\n",
    "#assign the values to the tier lists\n",
    "for inner_list1 in addedList:\n",
    "    none.append(inner_list1[0])\n",
    "    nano.append(inner_list1[1])\n",
    "    micro.append(inner_list1[2])\n",
    "    macro.append(inner_list1[3])\n",
    "    mega.append(inner_list1[4])\n",
    "    nan.append(inner_list1[5])\n",
    "\n",
    "\n",
    "#width of the bars\n",
    "bar_width = 0.1\n",
    "r1 = range(len(labels))\n",
    "r2 = [x + bar_width for x in r1]\n",
    "r3 = [x + bar_width for x in r2]\n",
    "r4 = [x + bar_width for x in r3]\n",
    "r5 = [x + bar_width for x in r4]\n",
    "r6 = [x + bar_width for x in r5]\n",
    "\n",
    "color = ['mistyrose', 'lightpink', 'darkseagreen', 'mediumaquamarine', 'lightskyblue', 'lightsteelblue']\n",
    "\n",
    "#plot\n",
    "plt.bar(r1, none, color=color[0], width=bar_width, label='none')\n",
    "plt.bar(r2, nano, color=color[1], width=bar_width, label='nano')\n",
    "plt.bar(r3, micro, color=color[2], width=bar_width, label='micro')\n",
    "plt.bar(r4, macro, color=color[3], width=bar_width, label='macro')\n",
    "plt.bar(r5, mega, color=color[4], width=bar_width, label='mega')\n",
    "plt.bar(r6, nan, color=color[5], width=bar_width, label='nan')\n",
    "\n",
    "#labels\n",
    "plt.xlabel('Pivotal Time Points')\n",
    "plt.ylabel('Counts of Videos Posted')\n",
    "plt.title('Year 2023 Trend (WOP, My Marmalade)')\n",
    "plt.xticks([r + bar_width/2 for r in range(len(labels))], labels)\n",
    "plt.yticks()\n",
    "plt.ylim(0, 80)\n",
    "\n",
    "#legend on the upper left\n",
    "plt.legend(bbox_to_anchor=(1.02, 1), loc='upper left', borderaxespad=0)\n",
    "\n",
    "\n",
    "#plot\n",
    "plt.show()"
   ]
  },
  {
   "cell_type": "markdown",
   "metadata": {},
   "source": [
    "### Analysis for other songs that don't have the original video labeled\n",
    "\n",
    "year 2021"
   ]
  },
  {
   "cell_type": "code",
   "execution_count": 60,
   "metadata": {},
   "outputs": [
    {
     "name": "stderr",
     "output_type": "stream",
     "text": [
      "/var/folders/zh/lh50ntf51kvdjr8cmpd9y7840000gn/T/ipykernel_38992/535456585.py:5: SettingWithCopyWarning: \n",
      "A value is trying to be set on a copy of a slice from a DataFrame.\n",
      "Try using .loc[row_indexer,col_indexer] = value instead\n",
      "\n",
      "See the caveats in the documentation: https://pandas.pydata.org/pandas-docs/stable/user_guide/indexing.html#returning-a-view-versus-a-copy\n",
      "  subset_df2021['video_playcount_int'] = pd.to_numeric(subset_df2021['video_playcount'], errors='coerce')\n"
     ]
    },
    {
     "name": "stderr",
     "output_type": "stream",
     "text": [
      "/var/folders/zh/lh50ntf51kvdjr8cmpd9y7840000gn/T/ipykernel_38992/535456585.py:21: SettingWithCopyWarning: \n",
      "A value is trying to be set on a copy of a slice from a DataFrame.\n",
      "Try using .loc[row_indexer,col_indexer] = value instead\n",
      "\n",
      "See the caveats in the documentation: https://pandas.pydata.org/pandas-docs/stable/user_guide/indexing.html#returning-a-view-versus-a-copy\n",
      "  df2021['video_timeNew'] = editedDateFormat\n"
     ]
    }
   ],
   "source": [
    "videos2021 = ['fancylike.csv', 'heartbreak.csv', 'savage.csv', 'up.csv']\n",
    "df2021 = pd.DataFrame()\n",
    "\n",
    "subset_df2021 = df[(df['sound'] == 'fancylike') | (df['sound'] == 'heartbreak') | (df['sound'] == 'savage') | (df['sound'] == 'up')]\n",
    "subset_df2021['video_playcount_int'] = pd.to_numeric(subset_df2021['video_playcount'], errors='coerce')\n",
    "\n",
    "#subset so that we are focusing on videos with more than 100K views (videos that gained relatively more attention)\n",
    "df2021 = subset_df2021[(pd.notna(subset_df2021['video_playcount_int'])) & (subset_df2021['video_playcount_int'] > 100000)]\n",
    "\n",
    "#date format so that only the year, month, and day are shown\n",
    "editedDateFormat = []\n",
    "\n",
    "#extract and add a new column\n",
    "for row in df2021['video_timestamp_new']:\n",
    "    rowdate = str(row)[0:10]\n",
    "    #rowdatefinal = pd.to_datetime(rowdate, errors='coerce').dt.date\n",
    "    rowdatefinal = pd.to_datetime(rowdate, errors='coerce')\n",
    "    editedDateFormat.append(rowdatefinal)\n",
    "    \n",
    "\n",
    "df2021['video_timeNew'] = editedDateFormat"
   ]
  },
  {
   "cell_type": "code",
   "execution_count": 61,
   "metadata": {},
   "outputs": [],
   "source": [
    "fancyDF = df2021[df2021['sound']=='fancylike']\n",
    "savageDF = df2021[df2021['sound']=='savage']\n",
    "upDF = df2021[df2021['sound']=='up']"
   ]
  },
  {
   "cell_type": "code",
   "execution_count": 62,
   "metadata": {},
   "outputs": [
    {
     "name": "stdout",
     "output_type": "stream",
     "text": [
      "2021-07-07\n",
      "41\n",
      "[14000.0, 2700000.0, 20400.0, 1200000.0, 531400.0, 108400.0, 25400.0, 3300000.0, 535800.0, 114100.0, 527100.0, 12700.0, 969200.0, 3286.0, 4800000.0, 13200.0, 2123.0, 2200000.0, 167500.0, 221400.0, 26900.0, 311500.0, 19200.0, 275700.0, 19000.0, 11800.0, 3200000.0, 35300.0, 47300.0, 7495.0, 10500.0, 416600.0, 1900000.0, 2600000.0, 25500.0, 922800.0, 1800000.0, 7787.0, 74400.0, 72000.0, 801300.0]\n",
      "Counter({'micro': 15, 'macro': 13, 'mega': 9, 'nano': 4})\n"
     ]
    }
   ],
   "source": [
    "fancymaxdate = max(Counter(fancyDF['video_timeNew']), key = Counter(fancyDF['video_timeNew']).get)\n",
    "stringdateFancy = str(fancymaxdate)[0:10]\n",
    "fancymaxdateConverted = datetime.strptime(stringdateFancy, '%Y-%m-%d')\n",
    "fancyFinalDate = fancymaxdateConverted.date()\n",
    "\n",
    "fancycounter = (Counter(fancyDF['video_timeNew']))\n",
    "fancymaxvideoValue = fancycounter[fancymaxdate]\n",
    "print(fancyFinalDate)\n",
    "print(fancymaxvideoValue)\n",
    "\n",
    "\n",
    "fancyPeak = datetime.strptime('2021-07-07', '%Y-%m-%d')\n",
    "fancyPeakSubset = fancyDF[fancyDF['video_timeNew'] == fancyPeak]\n",
    "#41 videos posted on the peak\n",
    "\n",
    "fancyInfluencerPEAK = []\n",
    "fancyFollowerCountPEAK = []\n",
    "\n",
    "for followercount in fancyPeakSubset['author_followercount']:\n",
    "    fancyFollowerCountPEAK.append(followercount)\n",
    "    fancyInfluencerPEAK.append(influencer_type(followercount))\n",
    "\n",
    "\n",
    "print(fancyFollowerCountPEAK)\n",
    "counterFancyPeak = Counter(fancyInfluencerPEAK)\n",
    "print(counterFancyPeak)"
   ]
  },
  {
   "cell_type": "code",
   "execution_count": 63,
   "metadata": {},
   "outputs": [
    {
     "name": "stdout",
     "output_type": "stream",
     "text": [
      "2020-03-28\n",
      "32\n",
      "[1100000.0, 349200.0, 7400000.0, 1800000.0, 3500000.0, 883200.0, 43200000.0, 2300000.0, 9500000.0, 6900000.0, 2300000.0, 349800.0, 1500000.0, 678800.0, 18200000.0, 8100000.0, 494900.0, 1100000.0, 889500.0, 947100.0, 2700000.0, 1200000.0, 211100.0, 20200000.0, 20200000.0, 6900000.0, 1100000.0, 142900.0, 624300.0, 2181.0, 397800.0, 3900000.0]\n",
      "Counter({'mega': 20, 'macro': 11, 'nano': 1})\n"
     ]
    }
   ],
   "source": [
    "savagemaxdate = max(Counter(savageDF['video_timeNew']), key = Counter(savageDF['video_timeNew']).get)\n",
    "stringdateSavage = str(savagemaxdate)[0:10]\n",
    "savagemaxdateConverted = datetime.strptime(stringdateSavage, '%Y-%m-%d')\n",
    "savageFinalDate = savagemaxdateConverted.date()\n",
    "\n",
    "savagecounter = (Counter(savageDF['video_timeNew']))\n",
    "savagemaxvideoValue = savagecounter[savagemaxdate]\n",
    "print(savageFinalDate)\n",
    "print(savagemaxvideoValue)\n",
    "\n",
    "\n",
    "savagePeak = datetime.strptime('2020-03-28', '%Y-%m-%d')\n",
    "savagePeakSubset = savageDF[savageDF['video_timeNew'] == savagePeak]\n",
    "#32 videos posted on the peak\n",
    "\n",
    "savageInfluencerPEAK = []\n",
    "savageFollowerCountPEAK = []\n",
    "\n",
    "for followercount in savagePeakSubset['author_followercount']:\n",
    "    savageFollowerCountPEAK.append(followercount)\n",
    "    savageInfluencerPEAK.append(influencer_type(followercount))\n",
    "\n",
    "\n",
    "print(savageFollowerCountPEAK)\n",
    "counterSavagePeak = Counter(savageInfluencerPEAK)\n",
    "print(counterSavagePeak)"
   ]
  },
  {
   "cell_type": "code",
   "execution_count": 64,
   "metadata": {},
   "outputs": [
    {
     "name": "stdout",
     "output_type": "stream",
     "text": [
      "2021-03-25\n",
      "59\n",
      "[3369.0, 2900000.0, 71000.0, 10300000.0, 3600000.0, 178100.0, 151200.0, 1400000.0, 30400000.0, 647300.0, 16399999.0, 506100.0, 871300.0, 5000000.0, 1300000.0, 6980.0, 932000.0, 5300000.0, 415800.0, 3700000.0, 250600.0, 468400.0, 202400.0, 2400000.0, 3800000.0, 996000.0, 6800000.0, 250500.0, 754500.0, 1444.0, 4800000.0, 4500000.0, 1300000.0, 17800.0, 15800000.0, 635200.0, 921500.0, 64000.0, 402100.0, 488400.0, 3400000.0, 310100.0, 329000.0, 219700.0, 32800.0, 323200.0, 4800000.0, 2800000.0, 2800000.0, 1100000.0, 24000.0, 31100000.0, 2400000.0, 283.0, 105700.0, 582000.0, 2300000.0, 17000.0, 978400.0]\n",
      "Counter({'mega': 25, 'macro': 24, 'micro': 6, 'nano': 3, 'none': 1})\n"
     ]
    }
   ],
   "source": [
    "upmaxdate = max(Counter(upDF['video_timeNew']), key = Counter(upDF['video_timeNew']).get)\n",
    "stringdateUp = str(upmaxdate)[0:10]\n",
    "upmaxdateConverted = datetime.strptime(stringdateUp, '%Y-%m-%d')\n",
    "upFinalDate = upmaxdateConverted.date()\n",
    "\n",
    "upcounter = (Counter(upDF['video_timeNew']))\n",
    "upmaxvideoValue = upcounter[upmaxdate]\n",
    "print(upFinalDate)\n",
    "print(upmaxvideoValue)\n",
    "\n",
    "\n",
    "upPeak = datetime.strptime('2021-03-25', '%Y-%m-%d')\n",
    "upPeakSubset = upDF[upDF['video_timeNew'] == upPeak]\n",
    "#59 videos posted on the peak\n",
    "\n",
    "upInfluencerPEAK = []\n",
    "upFollowerCountPEAK = []\n",
    "\n",
    "for followercount in upPeakSubset['author_followercount']:\n",
    "    upFollowerCountPEAK.append(followercount)\n",
    "    upInfluencerPEAK.append(influencer_type(followercount))\n",
    "\n",
    "print(upFollowerCountPEAK)\n",
    "counterUpPeak = Counter(upInfluencerPEAK)\n",
    "print(counterUpPeak)"
   ]
  },
  {
   "cell_type": "code",
   "execution_count": 65,
   "metadata": {},
   "outputs": [
    {
     "name": "stdout",
     "output_type": "stream",
     "text": [
      "2021-06-25\n",
      "2020-03-25\n",
      "2021-03-04\n"
     ]
    }
   ],
   "source": [
    "#identify the first day of the initial point from the time series\n",
    "\n",
    "fancyDay1 = datetime.strptime('2021-06-14', '%Y-%m-%d')\n",
    "savageDay1 = datetime.strptime('2020-03-23', '%Y-%m-%d')\n",
    "upDay1 = datetime.strptime('2021-02-12', '%Y-%m-%d')\n",
    "\n",
    "\n",
    "fancy_middate = fancyDay1.date() + (fancyFinalDate - fancyDay1.date()) / 2\n",
    "\n",
    "savage_middate = savageDay1.date() + (savageFinalDate - savageDay1.date()) / 2\n",
    "\n",
    "up_middate = upDay1.date() + (upFinalDate - upDay1.date()) / 2\n",
    "\n",
    "\n",
    "print(fancy_middate)\n",
    "print(savage_middate)\n",
    "print(up_middate)\n"
   ]
  },
  {
   "cell_type": "code",
   "execution_count": 66,
   "metadata": {},
   "outputs": [
    {
     "name": "stdout",
     "output_type": "stream",
     "text": [
      "           sound  year             video_id      video_timestamp  \\\n",
      "1698   fancylike  2021  6977857792937921797  2021-06-25T18:12:05   \n",
      "1902   fancylike  2021  6977936959612259589  2021-06-25T23:19:19   \n",
      "5331   fancylike  2021  6977891041257065733  2021-06-25T20:21:07   \n",
      "5886   fancylike  2021  6977796516857646341  2021-06-25T14:14:17   \n",
      "7190   fancylike  2021  6977653802635693318  2021-06-25T05:00:35   \n",
      "8599   fancylike  2021  6977876547285945605  2021-06-25T19:24:52   \n",
      "10406  fancylike  2021  6977730307373944069  2021-06-25T09:57:23   \n",
      "12960  fancylike  2021  6977850339118648582  2021-06-25T17:43:09   \n",
      "13374  fancylike  2021  6977621515017800965  2021-06-25T02:55:19   \n",
      "18007  fancylike  2021  6977811966224125190  2021-06-25T15:14:15   \n",
      "19213  fancylike  2021  6977862479506394374  2021-06-25T18:30:16   \n",
      "21326  fancylike  2021  6977815832600513797  2021-06-25T15:29:14   \n",
      "21948  fancylike  2021  6977836729092918534  2021-06-25T16:50:20   \n",
      "23347  fancylike  2021  6977919541305249030  2021-06-25T22:11:43   \n",
      "23671  fancylike  2021  6977839092553780485  2021-06-25T16:59:30   \n",
      "25192  fancylike  2021  6977912719223606534  2021-06-25T21:45:14   \n",
      "\n",
      "      video_duration video_likecount video_commentcount video_sharecount  \\\n",
      "1698            15.0         45000.0               96.0             87.0   \n",
      "1902            51.0        446900.0             6378.0          29600.0   \n",
      "5331            30.0         21700.0              394.0            415.0   \n",
      "5886            15.0         41000.0              166.0           2789.0   \n",
      "7190            34.0         87400.0              490.0           4853.0   \n",
      "8599            30.0        708900.0             2195.0          69500.0   \n",
      "10406           20.0         34600.0              124.0            347.0   \n",
      "12960           30.0         31000.0             3494.0             62.0   \n",
      "13374           30.0         40200.0              429.0            574.0   \n",
      "18007           17.0         28300.0              264.0           6054.0   \n",
      "19213           22.0        143000.0             2122.0           5820.0   \n",
      "21326           26.0         29700.0              387.0           1570.0   \n",
      "21948            9.0         43600.0              116.0           3850.0   \n",
      "23347           16.0         29200.0            13200.0            782.0   \n",
      "23671           30.0        124900.0              615.0           9435.0   \n",
      "25192           26.0        275700.0             1612.0           4240.0   \n",
      "\n",
      "      video_playcount                                  video_description  ...  \\\n",
      "1698         372700.0  this was supposed to be a practice but the end...  ...   \n",
      "1902        3600000.0  I’m not sure who caught who… #MyColoredHair #N...  ...   \n",
      "5331         281300.0      #Inverted #walkerhayes #fancylike #dancetrend  ...   \n",
      "5886        1600000.0  @walkerhayesofficial this ones for you! Thanks...  ...   \n",
      "7190         707000.0  Our version for the girls 💃@walkerhayesofficia...  ...   \n",
      "8599        6200000.0  American Flag Fruit Pizza #4thofjuly2021 #dess...  ...   \n",
      "10406       1000000.0  No more Cellulite! #stubbornfat #cellulite #ch...  ...   \n",
      "12960        208500.0  can someone tell me it gets better... 😑#MyColo...  ...   \n",
      "13374        528700.0  Yeah… this might be my fav! #itsavibe  #fancyl...  ...   \n",
      "18007        847900.0  @jealousdevilcharcoal #fypシ #food #foodies #ch...  ...   \n",
      "19213       1600000.0  We Fancy like; Had to try to hit this one  #fy...  ...   \n",
      "21326        677900.0  Happy Friday! #itstheweekend #trending #walker...  ...   \n",
      "21948       1200000.0  The best hack for your cooler... with a surpri...  ...   \n",
      "23347        268900.0  Drink pouches are a summer necessity! #MyColor...  ...   \n",
      "23671       1400000.0  Getting ready for the beach next week!  😎 #MyC...  ...   \n",
      "25192       5200000.0  Please forgive my terrible dancing. It’s been ...  ...   \n",
      "\n",
      "                     author_name  \\\n",
      "1698                 Alice Payne   \n",
      "1902                 Alyssa Hall   \n",
      "5331     Chanel (Nellie) Whitley   \n",
      "5886              Colby & Kelsey   \n",
      "7190                       Dozzi   \n",
      "8599            FiveFootFeminine   \n",
      "10406             Hypoxi Chicago   \n",
      "12960                Katelyn Joy   \n",
      "13374               KayCee Stroh   \n",
      "18007         MyMeatYourMouthBBQ   \n",
      "19213              Sam Williams🔋   \n",
      "21326  Roughie McDuffie(Melissa)   \n",
      "21948          savings_every_day   \n",
      "23347                Stephanie 💙   \n",
      "23671                  Amy Sword   \n",
      "25192                 Torigerbig   \n",
      "\n",
      "                                              author_bio author_followercount  \\\n",
      "1698   👑 🎀 ✨ Disney • Family • Lifestyle partnerships...             644400.0   \n",
      "1902   📍 Sweet Home AL | 27 ♥️ God Bless | Roll Tide ...            1000000.0   \n",
      "5331   Just tryna survive this world, down here in Ar...              19500.0   \n",
      "5886     •follow us• •we love to travel & make memories•               5916.0   \n",
      "7190   Aussies in Nash Same Mum+Dad “Wine Me Up” 🍇☝🏼 ...              33600.0   \n",
      "8599   FLORALS 🌸 HOME & GARDEN 🌸 RECIPES Email: FiveF...             333300.0   \n",
      "10406                  Leading technology in weight loss              25400.0   \n",
      "12960  27  here for fun  we smoke weed here meds don'...             136900.0   \n",
      "13374  🎭Actress  💃🏻Dancer/Choreographer  🎼Singer  🎤Sp...            3300000.0   \n",
      "18007                                        No bio yet.               7820.0   \n",
      "19213        THIS IS MY ONLY ACCOUNT  Follow me on insta            1300000.0   \n",
      "21326                          howdyyy🤠 GA links below👇🏼             215100.0   \n",
      "21948  Check out our Savings Every Day group on Faceb...              28300.0   \n",
      "23347  Just an everyday millennial mom 📦TikTok Shop R...             146400.0   \n",
      "23671    Amy 🌺 Matt 🤿 Nina 🍦 Emily ☀️ Cruze ⚓️ PC Life 🌊              23600.0   \n",
      "25192  Sharing bits of this crazy life  Vlogs..Recipe...             838300.0   \n",
      "\n",
      "      author_likecounts  video_stickers  video_is_ad video_locationcreated  \\\n",
      "1698         41700000.0             NaN        False                    US   \n",
      "1902         13600000.0             NaN        False                    US   \n",
      "5331           175600.0             NaN        False                    US   \n",
      "5886            46000.0             NaN        False                    US   \n",
      "7190           301700.0             NaN        False                    US   \n",
      "8599          4900000.0             NaN        False                    US   \n",
      "10406          492500.0             NaN        False                    US   \n",
      "12960         1500000.0             NaN        False                    US   \n",
      "13374        62100000.0             NaN        False                    US   \n",
      "18007           44200.0             NaN        False                    US   \n",
      "19213        15000000.0             NaN        False                    US   \n",
      "21326         3000000.0             NaN        False                    US   \n",
      "21948          278500.0             NaN        False                    US   \n",
      "23347         5500000.0             NaN        False                    US   \n",
      "23671          196800.0             NaN        False                    US   \n",
      "25192        13700000.0             NaN        False                    US   \n",
      "\n",
      "       video_timestamp_new video_playcount_int video_timeNew  \n",
      "1698   2021-06-25 18:12:05            372700.0    2021-06-25  \n",
      "1902   2021-06-25 23:19:19           3600000.0    2021-06-25  \n",
      "5331   2021-06-25 20:21:07            281300.0    2021-06-25  \n",
      "5886   2021-06-25 14:14:17           1600000.0    2021-06-25  \n",
      "7190   2021-06-25 05:00:35            707000.0    2021-06-25  \n",
      "8599   2021-06-25 19:24:52           6200000.0    2021-06-25  \n",
      "10406  2021-06-25 09:57:23           1000000.0    2021-06-25  \n",
      "12960  2021-06-25 17:43:09            208500.0    2021-06-25  \n",
      "13374  2021-06-25 02:55:19            528700.0    2021-06-25  \n",
      "18007  2021-06-25 15:14:15            847900.0    2021-06-25  \n",
      "19213  2021-06-25 18:30:16           1600000.0    2021-06-25  \n",
      "21326  2021-06-25 15:29:14            677900.0    2021-06-25  \n",
      "21948  2021-06-25 16:50:20           1200000.0    2021-06-25  \n",
      "23347  2021-06-25 22:11:43            268900.0    2021-06-25  \n",
      "23671  2021-06-25 16:59:30           1400000.0    2021-06-25  \n",
      "25192  2021-06-25 21:45:14           5200000.0    2021-06-25  \n",
      "\n",
      "[16 rows x 22 columns]\n",
      "[644400.0, 1000000.0, 19500.0, 5916.0, 33600.0, 333300.0, 25400.0, 136900.0, 3300000.0, 7820.0, 1300000.0, 215100.0, 28300.0, 146400.0, 23600.0, 838300.0]\n",
      "Counter({'macro': 6, 'micro': 5, 'mega': 3, 'nano': 2})\n"
     ]
    }
   ],
   "source": [
    "fancyMiddleDate = datetime.strptime('2021-06-25', '%Y-%m-%d')\n",
    "fancyMidSubset = fancyDF[fancyDF['video_timeNew']==fancyMiddleDate]\n",
    "print(fancyMidSubset)\n",
    "#16 authors\n",
    "\n",
    "fancyInfluencerMID = []\n",
    "fancyFollowerCountMID = []\n",
    "\n",
    "for followercount in fancyMidSubset['author_followercount']:\n",
    "    fancyFollowerCountMID.append(followercount)\n",
    "    fancyInfluencerMID.append(influencer_type(followercount))\n",
    "\n",
    "print(fancyFollowerCountMID)\n",
    "counterFancyMiddle = Counter(fancyInfluencerMID)\n",
    "print(counterFancyMiddle)"
   ]
  },
  {
   "cell_type": "code",
   "execution_count": 67,
   "metadata": {},
   "outputs": [
    {
     "name": "stdout",
     "output_type": "stream",
     "text": [
      "[2300000.0, 16400.0, 4600000.0, 237600.0, 11500000.0, 3700000.0, 718200.0, 5300000.0, 8300000.0, 105200.0, 6700000.0]\n",
      "Counter({'mega': 7, 'macro': 3, 'micro': 1})\n"
     ]
    }
   ],
   "source": [
    "savageMiddleDate = datetime.strptime('2020-03-25', '%Y-%m-%d')\n",
    "savageMidSubset = savageDF[savageDF['video_timeNew']==savageMiddleDate]\n",
    "#print(savageMidSubset)\n",
    "#11 authors\n",
    "\n",
    "savageInfluencerMID = []\n",
    "savageFollowerCountMID = []\n",
    "\n",
    "for followercount in savageMidSubset['author_followercount']:\n",
    "    savageFollowerCountMID.append(followercount)\n",
    "    savageInfluencerMID.append(influencer_type(followercount))\n",
    "\n",
    "print(savageFollowerCountMID)\n",
    "counterSavageMiddle = Counter(savageInfluencerMID)\n",
    "print(counterSavageMiddle)"
   ]
  },
  {
   "cell_type": "code",
   "execution_count": 68,
   "metadata": {},
   "outputs": [
    {
     "name": "stdout",
     "output_type": "stream",
     "text": [
      "[18700.0, 1300000.0, 97400.0, 4099999.0, 621800.0, 3100000.0, 401900.0, 7400000.0, 985700.0, 1200000.0, 171300.0, 348700.0, 1300000.0, 1300000.0, 134700.0, 1200000.0, 1400000.0, 777200.0, 131100.0, 387300.0, 3900000.0, 107600.0, 34500.0, 937400.0, 10500000.0]\n",
      "Counter({'mega': 11, 'macro': 11, 'micro': 3})\n"
     ]
    }
   ],
   "source": [
    "upMiddleDate = datetime.strptime('2021-03-04', '%Y-%m-%d')\n",
    "upMidSubset = upDF[upDF['video_timeNew']==upMiddleDate]\n",
    "#25 authors\n",
    "\n",
    "upInfluencerMID = []\n",
    "upFollowerCountMID = []\n",
    "\n",
    "for followercount in upMidSubset['author_followercount']:\n",
    "    upFollowerCountMID.append(followercount)\n",
    "    upInfluencerMID.append(influencer_type(followercount))\n",
    "\n",
    "print(upFollowerCountMID)\n",
    "counterUpMiddle = Counter(upInfluencerMID)\n",
    "print(counterUpMiddle)\n"
   ]
  },
  {
   "cell_type": "code",
   "execution_count": 69,
   "metadata": {},
   "outputs": [],
   "source": [
    "AllLists2021 = [counterFancyMiddle, counterFancyPeak, \n",
    "                counterHeartMiddle, counterHeartPeak, \n",
    "                counterSavageMiddle, counterSavagePeak, \n",
    "                counterUpMiddle, counterUpPeak]\n",
    "\n",
    "CounterList2021 = []\n",
    "for list in AllLists2021:\n",
    "    CounterList2021.append(convertToList(list))\n",
    "\n",
    "fancyList = CounterList2021[0:2]\n",
    "heartList = heartbreakList[1:3]\n",
    "savageList = CounterList2021[4: 6]\n",
    "upList = CounterList2021[6: 8]\n"
   ]
  },
  {
   "cell_type": "code",
   "execution_count": 72,
   "metadata": {},
   "outputs": [
    {
     "data": {
      "image/png": "[encoded data removed]",
      "text/plain": [
       "<Figure size 640x480 with 1 Axes>"
      ]
     },
     "metadata": {},
     "output_type": "display_data"
    }
   ],
   "source": [
    "labels = ['midpoint', 'peak']\n",
    "\n",
    "none = []\n",
    "nano = []\n",
    "micro = []\n",
    "macro = []\n",
    "mega = []\n",
    "nan = []\n",
    "\n",
    "\n",
    "addedList = []\n",
    "for list1, list2, list3, list4 in zip(fancyList, heartList, savageList, upList):\n",
    "    result = []\n",
    "    for x, y, z, w in zip(list1, list2, list3, list4):\n",
    "        result.append(x + y + z + w)\n",
    "    addedList.append(result)\n",
    "\n",
    "\n",
    "for inner_list1 in addedList:\n",
    "    none.append(inner_list1[0])\n",
    "    nano.append(inner_list1[1])\n",
    "    micro.append(inner_list1[2])\n",
    "    macro.append(inner_list1[3])\n",
    "    mega.append(inner_list1[4])\n",
    "    nan.append(inner_list1[5])\n",
    "\n",
    "\n",
    "#width\n",
    "bar_width = 0.1\n",
    "r1 = range(len(labels))\n",
    "r2 = [x + bar_width for x in r1]\n",
    "r3 = [x + bar_width for x in r2]\n",
    "r4 = [x + bar_width for x in r3]\n",
    "r5 = [x + bar_width for x in r4]\n",
    "r6 = [x + bar_width for x in r5]\n",
    "\n",
    "color = ['mistyrose', 'lightpink', 'darkseagreen', 'mediumaquamarine', 'lightskyblue', 'lightsteelblue']\n",
    "\n",
    "#plot\n",
    "plt.bar(r1, none, color=color[0], width=bar_width, label='none')\n",
    "plt.bar(r2, nano, color=color[1], width=bar_width, label='nano')\n",
    "plt.bar(r3, micro, color=color[2], width=bar_width, label='micro')\n",
    "plt.bar(r4, macro, color=color[3], width=bar_width, label='macro')\n",
    "plt.bar(r5, mega, color=color[4], width=bar_width, label='mega')\n",
    "plt.bar(r6, nan, color=color[5], width=bar_width, label='nan')\n",
    "\n",
    "#labels\n",
    "plt.xlabel('Pivotal Time Points')\n",
    "plt.ylabel('Counts of Videos Posted')\n",
    "plt.title('Year 2021 Trend (Fancy Like, Heartbreak Anniversary, Savage, Up)')\n",
    "plt.xticks([r + bar_width/2 for r in range(len(labels))], labels)\n",
    "plt.yticks()\n",
    "\n",
    "#legend\n",
    "plt.legend(bbox_to_anchor=(1.02, 1), loc='upper left', borderaxespad=0)\n",
    "plt.ylim(0, 80)\n",
    "\n",
    "#plot\n",
    "plt.show()"
   ]
  },
  {
   "cell_type": "code",
   "execution_count": 75,
   "metadata": {},
   "outputs": [
    {
     "name": "stdout",
     "output_type": "stream",
     "text": [
      "51\n",
      "23\n",
      "28\n",
      "206\n"
     ]
    }
   ],
   "source": [
    "#count for total posts posted by high tier influencers at the mid point\n",
    "print(macro[0] + mega[0])\n",
    "print(macro[0])\n",
    "print(mega[0])\n",
    "#total 51, 23 macro, 28 mega\n",
    "\n",
    "#count for total posts posted at the peak\n",
    "print(none[1] + nano[1] + micro[1] + macro[1] + mega[1] + nan[1])\n",
    "#total 206"
   ]
  },
  {
   "cell_type": "markdown",
   "metadata": {},
   "source": [
    "### Analysis for other songs that don't have the original video labeled\n",
    "\n",
    "year 2022"
   ]
  },
  {
   "cell_type": "code",
   "execution_count": 76,
   "metadata": {},
   "outputs": [
    {
     "name": "stderr",
     "output_type": "stream",
     "text": [
      "/var/folders/zh/lh50ntf51kvdjr8cmpd9y7840000gn/T/ipykernel_38992/3326276472.py:5: SettingWithCopyWarning: \n",
      "A value is trying to be set on a copy of a slice from a DataFrame.\n",
      "Try using .loc[row_indexer,col_indexer] = value instead\n",
      "\n",
      "See the caveats in the documentation: https://pandas.pydata.org/pandas-docs/stable/user_guide/indexing.html#returning-a-view-versus-a-copy\n",
      "  subset_df2022['video_playcount_int'] = pd.to_numeric(subset_df2022['video_playcount'], errors='coerce')\n",
      "/var/folders/zh/lh50ntf51kvdjr8cmpd9y7840000gn/T/ipykernel_38992/3326276472.py:20: SettingWithCopyWarning: \n",
      "A value is trying to be set on a copy of a slice from a DataFrame.\n",
      "Try using .loc[row_indexer,col_indexer] = value instead\n",
      "\n",
      "See the caveats in the documentation: https://pandas.pydata.org/pandas-docs/stable/user_guide/indexing.html#returning-a-view-versus-a-copy\n",
      "  df2022['video_timeNew'] = editedDateFormat\n"
     ]
    }
   ],
   "source": [
    "videos2022 = ['conceited.csv', 'nowahala.csv', 'sweaterweather.csv']\n",
    "df2022 = pd.DataFrame()\n",
    "\n",
    "subset_df2022 = df[(df['sound'] == 'conceited') | (df['sound'] == 'nowahala') | (df['sound'] == 'sweaterweather')]\n",
    "subset_df2022['video_playcount_int'] = pd.to_numeric(subset_df2022['video_playcount'], errors='coerce')\n",
    "\n",
    "df2022 = subset_df2022[(pd.notna(subset_df2022['video_playcount_int'])) & (subset_df2022['video_playcount_int'] > 100000)]\n",
    "\n",
    "\n",
    "#date format so that only the year, month, and day is shown\n",
    "editedDateFormat = []\n",
    "\n",
    "#extract and add a new column\n",
    "for row in df2022['video_timestamp_new']:\n",
    "    rowdate = str(row)[0:10]\n",
    "    rowdatefinal = pd.to_datetime(rowdate, errors='coerce')\n",
    "    editedDateFormat.append(rowdatefinal)\n",
    "    \n",
    "\n",
    "df2022['video_timeNew'] = editedDateFormat"
   ]
  },
  {
   "cell_type": "code",
   "execution_count": 77,
   "metadata": {},
   "outputs": [],
   "source": [
    "conceitedDF = df2022[df2022['sound']=='conceited']\n",
    "nowahalaDF = df2022[df2022['sound']=='nowahala']\n",
    "weatherDF = df2022[df2022['sound']=='sweaterweather']"
   ]
  },
  {
   "cell_type": "code",
   "execution_count": 78,
   "metadata": {},
   "outputs": [
    {
     "name": "stdout",
     "output_type": "stream",
     "text": [
      "2022-07-07\n",
      "77\n",
      "[nan, 2700000.0, nan, 5600000.0, nan, nan, nan, nan, 3400000.0, nan, nan, nan, nan, 458700.0, nan, 7700000.0, nan, nan, nan, nan, nan, nan, nan, nan, nan, nan, nan, 342600.0, nan, nan, nan, nan, nan, 171300.0, nan, nan, nan, nan, 3700000.0, nan, nan, nan, nan, nan, nan, 264600.0, nan, nan, nan, 1300000.0, nan, nan, nan, nan, 792400.0, nan, nan, nan, nan, nan, nan, 937400.0, nan, nan, nan, nan, nan, nan, 778800.0, 564200.0, nan, nan, 6600000.0, nan, 1300000.0, nan, nan]\n",
      "Counter({'NaN': 61, 'mega': 8, 'macro': 8})\n"
     ]
    }
   ],
   "source": [
    "conceitedmaxdate = max(Counter(conceitedDF['video_timeNew']), key = Counter(conceitedDF['video_timeNew']).get)\n",
    "stringdateConceited = str(conceitedmaxdate)[0:10]\n",
    "conceitedmaxdateConverted = datetime.strptime(stringdateConceited, '%Y-%m-%d')\n",
    "conceitedFinalDate = conceitedmaxdateConverted.date()\n",
    "\n",
    "conceitedcounter = (Counter(conceitedDF['video_timeNew']))\n",
    "conceitedmaxvideoValue = conceitedcounter[conceitedmaxdate]\n",
    "print(conceitedFinalDate)\n",
    "print(conceitedmaxvideoValue)\n",
    "\n",
    "\n",
    "conceitedPeak = datetime.strptime('2022-07-07', '%Y-%m-%d')\n",
    "conceitedPeakSubset = conceitedDF[conceitedDF['video_timeNew'] == conceitedPeak]\n",
    "#77 videos posted on the peak\n",
    "\n",
    "conceitedInfluencerPEAK = []\n",
    "conceitedFollowerCountPEAK = []\n",
    "\n",
    "for followercount in conceitedPeakSubset['author_followercount']:\n",
    "    conceitedFollowerCountPEAK.append(followercount)\n",
    "    conceitedInfluencerPEAK.append(influencer_type(followercount))\n",
    "\n",
    "print(conceitedFollowerCountPEAK)\n",
    "counterConceitedPeak = Counter(conceitedInfluencerPEAK)\n",
    "print(counterConceitedPeak)"
   ]
  },
  {
   "cell_type": "code",
   "execution_count": 80,
   "metadata": {},
   "outputs": [
    {
     "name": "stdout",
     "output_type": "stream",
     "text": [
      "2021-11-29\n",
      "6\n",
      "[nan, 3700000.0, 2200000.0, 1842.0, nan, nan]\n",
      "Counter({'NaN': 3, 'mega': 2, 'nano': 1})\n"
     ]
    }
   ],
   "source": [
    "nowahalamaxdate = max(Counter(nowahalaDF['video_timeNew']), key = Counter(nowahalaDF['video_timeNew']).get)\n",
    "stringdateNowahala = str(nowahalamaxdate)[0:10]\n",
    "nowahalamaxdateConverted = datetime.strptime(stringdateNowahala, '%Y-%m-%d')\n",
    "nowahalaFinalDate = nowahalamaxdateConverted.date()\n",
    "\n",
    "nowahalacounter = (Counter(nowahalaDF['video_timeNew']))\n",
    "nowahalamaxvideoValue = nowahalacounter[nowahalamaxdate]\n",
    "print(nowahalaFinalDate)\n",
    "print(nowahalamaxvideoValue)\n",
    "\n",
    "\n",
    "nowahalaPeak = datetime.strptime('2021-11-29', '%Y-%m-%d')\n",
    "nowahalaPeakSubset = nowahalaDF[nowahalaDF['video_timeNew'] == nowahalaPeak]\n",
    "#6 videos posted on the peak\n",
    "\n",
    "nowahalaInfluencerPEAK = []\n",
    "nowahalaFollowerCountPEAK = []\n",
    "\n",
    "for followercount in nowahalaPeakSubset['author_followercount']:\n",
    "    nowahalaFollowerCountPEAK.append(followercount)\n",
    "    nowahalaInfluencerPEAK.append(influencer_type(followercount))\n",
    "\n",
    "print(nowahalaFollowerCountPEAK)\n",
    "counterNowahalaPeak = Counter(nowahalaInfluencerPEAK)\n",
    "print(counterNowahalaPeak)"
   ]
  },
  {
   "cell_type": "code",
   "execution_count": 81,
   "metadata": {},
   "outputs": [
    {
     "name": "stdout",
     "output_type": "stream",
     "text": [
      "2022-09-18\n",
      "10\n",
      "[nan, nan, nan, nan, nan, nan, nan, nan, nan, 13700000.0]\n",
      "Counter({'NaN': 9, 'mega': 1})\n"
     ]
    }
   ],
   "source": [
    "weathermaxdate = max(Counter(weatherDF['video_timeNew']), key = Counter(weatherDF['video_timeNew']).get)\n",
    "stringdateWeather = str(weathermaxdate)[0:10]\n",
    "weathermaxdateConverted = datetime.strptime(stringdateWeather, '%Y-%m-%d')\n",
    "weatherFinalDate = weathermaxdateConverted.date()\n",
    "\n",
    "weathercounter = (Counter(weatherDF['video_timeNew']))\n",
    "weathermaxvideoValue = weathercounter[weathermaxdate]\n",
    "print(weatherFinalDate)\n",
    "print(weathermaxvideoValue)\n",
    "\n",
    "\n",
    "weatherPeak = datetime.strptime('2022-09-18', '%Y-%m-%d')\n",
    "weatherPeakSubset = weatherDF[weatherDF['video_timeNew'] == weatherPeak]\n",
    "#10 videos posted on the peak\n",
    "\n",
    "weatherInfluencerPEAK = []\n",
    "weatherFollowerCountPEAK = []\n",
    "\n",
    "for followercount in weatherPeakSubset['author_followercount']:\n",
    "    weatherFollowerCountPEAK.append(followercount)\n",
    "    weatherInfluencerPEAK.append(influencer_type(followercount))\n",
    "\n",
    "print(weatherFollowerCountPEAK)\n",
    "counterWeatherPeak = Counter(weatherInfluencerPEAK)\n",
    "print(counterWeatherPeak)"
   ]
  },
  {
   "cell_type": "code",
   "execution_count": 82,
   "metadata": {},
   "outputs": [
    {
     "name": "stdout",
     "output_type": "stream",
     "text": [
      "2022-07-03\n",
      "2021-11-21\n",
      "2022-08-26\n"
     ]
    }
   ],
   "source": [
    "conceitedDay1 = datetime.strptime('2022-06-30', '%Y-%m-%d')\n",
    "nowahalaDay1 = datetime.strptime('2021-11-13', '%Y-%m-%d')\n",
    "weatherDay1 = datetime.strptime('2022-08-04', '%Y-%m-%d')\n",
    "\n",
    "\n",
    "conceited_middate = conceitedDay1.date() + (conceitedFinalDate - conceitedDay1.date()) / 2\n",
    "\n",
    "nowahala_middate = nowahalaDay1.date() + (nowahalaFinalDate - nowahalaDay1.date()) / 2\n",
    "\n",
    "weather_middate = weatherDay1.date() + (weatherFinalDate - weatherDay1.date()) / 2\n",
    "\n",
    "\n",
    "print(conceited_middate)\n",
    "print(nowahala_middate)\n",
    "print(weather_middate)\n"
   ]
  },
  {
   "cell_type": "code",
   "execution_count": 83,
   "metadata": {},
   "outputs": [
    {
     "name": "stdout",
     "output_type": "stream",
     "text": [
      "          sound  year             video_id      video_timestamp  \\\n",
      "8548  conceited  2022  7197142383115422982  2023-02-06T15:28:18   \n",
      "\n",
      "     video_duration video_likecount video_commentcount video_sharecount  \\\n",
      "8548           14.0        156300.0              249.0           1755.0   \n",
      "\n",
      "     video_playcount                                  video_description  ...  \\\n",
      "8548       1000000.0  she carried that show, and its still everybody...  ...   \n",
      "\n",
      "     author_name author_bio author_followercount author_likecounts  \\\n",
      "8548         NaN        NaN                  NaN               NaN   \n",
      "\n",
      "      video_stickers  video_is_ad video_locationcreated  video_timestamp_new  \\\n",
      "8548             NaN        False                    NO  2023-02-06 15:28:18   \n",
      "\n",
      "     video_playcount_int video_timeNew  \n",
      "8548           1000000.0    2023-02-06  \n",
      "\n",
      "[1 rows x 22 columns]\n",
      "[nan]\n",
      "Counter({'NaN': 1})\n"
     ]
    }
   ],
   "source": [
    "conceitedMiddleDate = datetime.strptime('2023-02-06', '%Y-%m-%d')\n",
    "conceitedMidSubset = conceitedDF[conceitedDF['video_timeNew']==conceitedMiddleDate]\n",
    "print(conceitedMidSubset)\n",
    "#only one video\n",
    "\n",
    "conceitedInfluencerMID = []\n",
    "conceitedFollowerCountMID = []\n",
    "\n",
    "for followercount in conceitedMidSubset['author_followercount']:\n",
    "    conceitedFollowerCountMID.append(followercount)\n",
    "    conceitedInfluencerMID.append(influencer_type(followercount))\n",
    "\n",
    "print(conceitedFollowerCountMID)\n",
    "counterConceitedMiddle = Counter(conceitedInfluencerMID)\n",
    "print(counterConceitedMiddle)\n",
    "#NaN"
   ]
  },
  {
   "cell_type": "code",
   "execution_count": 85,
   "metadata": {},
   "outputs": [
    {
     "name": "stdout",
     "output_type": "stream",
     "text": [
      "          sound  year             video_id      video_timestamp  \\\n",
      "8633   nowahala  2022  7035871985603185966  2021-11-29T01:16:46   \n",
      "11424  nowahala  2022  7036060534847966469  2021-11-29T13:28:27   \n",
      "11922  nowahala  2022  7036149813532036357  2021-11-29T19:14:51   \n",
      "16712  nowahala  2022  7035856195202125062  2021-11-29T00:15:30   \n",
      "23757  nowahala  2022  7036062619324796165  2021-11-29T13:36:29   \n",
      "23758  nowahala  2022  7036020051547278598  2021-11-29T10:51:19   \n",
      "\n",
      "      video_duration video_likecount video_commentcount video_sharecount  \\\n",
      "8633            11.0         92600.0             2143.0           2164.0   \n",
      "11424           12.0         95200.0              389.0           1518.0   \n",
      "11922            7.0        249300.0             1216.0           1863.0   \n",
      "16712            9.0        227700.0              783.0           9379.0   \n",
      "23757           15.0         92800.0              440.0           4455.0   \n",
      "23758           15.0         44900.0              205.0            623.0   \n",
      "\n",
      "      video_playcount                                  video_description  ...  \\\n",
      "8633        1700000.0            #fypシ #foryou #africanfood #eggs #bread  ...   \n",
      "11424       1000000.0                             😩 #ARMMIES🦋 #itzzammie  ...   \n",
      "11922       3400000.0                                                NaN  ...   \n",
      "16712        843300.0  I love this trend lol #fyp #GiveWithAllYourHea...  ...   \n",
      "23757        804900.0  🤧🤧🤧 there’s TROUBLE 🤧🤧 #taaooma #greenscreenvideo  ...   \n",
      "23758        340200.0  Ion know who made this song bhet I love eet ❤️...  ...   \n",
      "\n",
      "      author_name                                         author_bio  \\\n",
      "8633          NaN                                                NaN   \n",
      "11424      AMMIE🦋  🦋MULTI-TALENTED BADDIE 🦋 ONLY ACCOUNT  Dm (IG)...   \n",
      "11922   Jakeyrria                                   Follow my new iG   \n",
      "16712        Maya                              Davido’s wife   🇱🇷|🇬🇳   \n",
      "23757         NaN                                                NaN   \n",
      "23758         NaN                                                NaN   \n",
      "\n",
      "      author_followercount author_likecounts  video_stickers  video_is_ad  \\\n",
      "8633                   NaN               NaN             NaN        False   \n",
      "11424            3700000.0       103400000.0             NaN        False   \n",
      "11922            2200000.0        53600000.0             NaN        False   \n",
      "16712               1842.0          230800.0             NaN        False   \n",
      "23757                  NaN               NaN             NaN        False   \n",
      "23758                  NaN               NaN             NaN        False   \n",
      "\n",
      "      video_locationcreated  video_timestamp_new video_playcount_int  \\\n",
      "8633                     US  2021-11-29 01:16:46           1700000.0   \n",
      "11424                    NG  2021-11-29 13:28:27           1000000.0   \n",
      "11922                    US  2021-11-29 19:14:51           3400000.0   \n",
      "16712                    US  2021-11-29 00:15:30            843300.0   \n",
      "23757                    NG  2021-11-29 13:36:29            804900.0   \n",
      "23758                    NG  2021-11-29 10:51:19            340200.0   \n",
      "\n",
      "      video_timeNew  \n",
      "8633     2021-11-29  \n",
      "11424    2021-11-29  \n",
      "11922    2021-11-29  \n",
      "16712    2021-11-29  \n",
      "23757    2021-11-29  \n",
      "23758    2021-11-29  \n",
      "\n",
      "[6 rows x 22 columns]\n",
      "[nan, 3700000.0, 2200000.0, 1842.0, nan, nan]\n",
      "Counter({'NaN': 3, 'mega': 2, 'nano': 1})\n"
     ]
    }
   ],
   "source": [
    "nowahalaMiddleDate = datetime.strptime('2021-11-29', '%Y-%m-%d')\n",
    "nowahalaMidSubset = nowahalaDF[nowahalaDF['video_timeNew']==nowahalaMiddleDate]\n",
    "print(nowahalaMidSubset)\n",
    "#6 videos\n",
    "\n",
    "nowahalaInfluencerMID = []\n",
    "nowahalaFollowerCountMID = []\n",
    "\n",
    "for followercount in nowahalaMidSubset['author_followercount']:\n",
    "    nowahalaFollowerCountMID.append(followercount)\n",
    "    nowahalaInfluencerMID.append(influencer_type(followercount))\n",
    "\n",
    "print(nowahalaFollowerCountMID)\n",
    "counterNowahalaMiddle = Counter(nowahalaInfluencerMID)\n",
    "print(counterNowahalaMiddle)"
   ]
  },
  {
   "cell_type": "code",
   "execution_count": 87,
   "metadata": {},
   "outputs": [
    {
     "name": "stdout",
     "output_type": "stream",
     "text": [
      "                sound  year             video_id      video_timestamp  \\\n",
      "13284  sweaterweather  2022  7136330584955145514  2022-08-26T19:27:26   \n",
      "16395  sweaterweather  2022  7136296224075894022  2022-08-26T17:14:09   \n",
      "\n",
      "      video_duration video_likecount video_commentcount video_sharecount  \\\n",
      "13284           19.0        124500.0             1013.0            521.0   \n",
      "16395           15.0        124600.0              130.0            222.0   \n",
      "\n",
      "      video_playcount                                  video_description  ...  \\\n",
      "13284        734000.0                                      Yay gold out!  ...   \n",
      "16395        667600.0  en clase de mi mami 🤙🏻#lentajas #usa🇺🇸 #parati...  ...   \n",
      "\n",
      "      author_name author_bio author_followercount author_likecounts  \\\n",
      "13284         NaN        NaN                  NaN               NaN   \n",
      "16395         NaN        NaN                  NaN               NaN   \n",
      "\n",
      "       video_stickers  video_is_ad video_locationcreated  video_timestamp_new  \\\n",
      "13284             NaN        False                    US  2022-08-26 19:27:26   \n",
      "16395             NaN        False                    US  2022-08-26 17:14:09   \n",
      "\n",
      "      video_playcount_int video_timeNew  \n",
      "13284            734000.0    2022-08-26  \n",
      "16395            667600.0    2022-08-26  \n",
      "\n",
      "[2 rows x 22 columns]\n",
      "[nan, nan]\n",
      "Counter({'NaN': 2})\n"
     ]
    }
   ],
   "source": [
    "weatherMiddleDate = datetime.strptime('2022-08-26', '%Y-%m-%d')\n",
    "weatherMidSubset = weatherDF[weatherDF['video_timeNew']==weatherMiddleDate]\n",
    "print(weatherMidSubset)\n",
    "# two videos\n",
    "\n",
    "weatherInfluencerMID = []\n",
    "weatherFollowerCountMID = []\n",
    "\n",
    "for followercount in weatherMidSubset['author_followercount']:\n",
    "    weatherFollowerCountMID.append(followercount)\n",
    "    weatherInfluencerMID.append(influencer_type(followercount))\n",
    "\n",
    "print(weatherFollowerCountMID)\n",
    "counterWeatherMiddle = Counter(weatherInfluencerMID)\n",
    "print(counterWeatherMiddle)"
   ]
  },
  {
   "cell_type": "code",
   "execution_count": 88,
   "metadata": {},
   "outputs": [],
   "source": [
    "AllLists2022 = [counterConceitedMiddle, counterConceitedPeak, \n",
    "                counterNowahalaMiddle, counterNowahalaPeak, \n",
    "                counterWeatherMiddle, counterWeatherPeak]\n",
    "\n",
    "CounterList2022 = []\n",
    "for list in AllLists2022:\n",
    "    CounterList2022.append(convertToList(list))\n",
    "\n",
    "conceitedList = CounterList2022[0:2]\n",
    "NowahalaList = CounterList2022[2:4]\n",
    "weatherList = CounterList2022[4: 6]"
   ]
  },
  {
   "cell_type": "code",
   "execution_count": 90,
   "metadata": {},
   "outputs": [
    {
     "data": {
      "image/png": "[encoded data removed]",
      "text/plain": [
       "<Figure size 640x480 with 1 Axes>"
      ]
     },
     "metadata": {},
     "output_type": "display_data"
    }
   ],
   "source": [
    "labels = ['midpoint', 'peak']\n",
    "\n",
    "none = []\n",
    "nano = []\n",
    "micro = []\n",
    "macro = []\n",
    "mega = []\n",
    "nan = []\n",
    "\n",
    "addedList = []\n",
    "\n",
    "for list1, list2, list3 in zip(conceitedList, NowahalaList, weatherList):\n",
    "    result = []\n",
    "    for x, y, z in zip(list1, list2, list3):\n",
    "        result.append(x + y + z)\n",
    "    addedList.append(result)\n",
    "\n",
    "\n",
    "\n",
    "for inner_list1 in addedList:\n",
    "    none.append(inner_list1[0])\n",
    "    nano.append(inner_list1[1])\n",
    "    micro.append(inner_list1[2])\n",
    "    macro.append(inner_list1[3])\n",
    "    mega.append(inner_list1[4])\n",
    "    nan.append(inner_list1[5])\n",
    "\n",
    "\n",
    "#width\n",
    "bar_width = 0.1\n",
    "r1 = range(len(labels))\n",
    "r2 = [x + bar_width for x in r1]\n",
    "r3 = [x + bar_width for x in r2]\n",
    "r4 = [x + bar_width for x in r3]\n",
    "r5 = [x + bar_width for x in r4]\n",
    "r6 = [x + bar_width for x in r5]\n",
    "\n",
    "color = ['mistyrose', 'lightpink', 'darkseagreen', 'mediumaquamarine', 'lightskyblue', 'lightsteelblue']\n",
    "\n",
    "#plot\n",
    "plt.bar(r1, none, color=color[0], width=bar_width, label='none')\n",
    "plt.bar(r2, nano, color=color[1], width=bar_width, label='nano')\n",
    "plt.bar(r3, micro, color=color[2], width=bar_width, label='micro')\n",
    "plt.bar(r4, macro, color=color[3], width=bar_width, label='macro')\n",
    "plt.bar(r5, mega, color=color[4], width=bar_width, label='mega')\n",
    "plt.bar(r6, nan, color=color[5], width=bar_width, label='nan')\n",
    "\n",
    "#label\n",
    "plt.xlabel('Pivotal Time Points')\n",
    "plt.ylabel('Counts of Videos Posted')\n",
    "plt.title('Year 2022 Trend (Conceited, No Wahala, Sweater Weather (Sped Up))')\n",
    "plt.xticks([r + bar_width/2 for r in range(len(labels))], labels)\n",
    "plt.yticks()\n",
    "\n",
    "#legend\n",
    "plt.legend(bbox_to_anchor=(1.02, 1), loc='upper left', borderaxespad=0)\n",
    "plt.ylim(0, 80)\n",
    "\n",
    "#plot\n",
    "plt.show()"
   ]
  },
  {
   "cell_type": "code",
   "execution_count": 92,
   "metadata": {},
   "outputs": [
    {
     "name": "stdout",
     "output_type": "stream",
     "text": [
      "2\n",
      "0\n",
      "2\n",
      "93\n"
     ]
    }
   ],
   "source": [
    "print(macro[0] + mega[0])\n",
    "print(macro[0])\n",
    "print(mega[0])\n",
    "# 2 mega\n",
    "\n",
    "print(none[1] + nano[1]+ micro[1] + macro[1] + mega[1] + nan[1])\n",
    "#93 authors"
   ]
  },
  {
   "cell_type": "markdown",
   "metadata": {},
   "source": [
    "### Analysis for other songs that don't have the original video labeled\n",
    "\n",
    "year 2023"
   ]
  },
  {
   "cell_type": "code",
   "execution_count": 93,
   "metadata": {},
   "outputs": [
    {
     "name": "stderr",
     "output_type": "stream",
     "text": [
      "/var/folders/zh/lh50ntf51kvdjr8cmpd9y7840000gn/T/ipykernel_38992/207064779.py:6: SettingWithCopyWarning: \n",
      "A value is trying to be set on a copy of a slice from a DataFrame.\n",
      "Try using .loc[row_indexer,col_indexer] = value instead\n",
      "\n",
      "See the caveats in the documentation: https://pandas.pydata.org/pandas-docs/stable/user_guide/indexing.html#returning-a-view-versus-a-copy\n",
      "  subset_df2023['video_playcount_int'] = pd.to_numeric(subset_df2023['video_playcount'], errors='coerce')\n",
      "/var/folders/zh/lh50ntf51kvdjr8cmpd9y7840000gn/T/ipykernel_38992/207064779.py:20: SettingWithCopyWarning: \n",
      "A value is trying to be set on a copy of a slice from a DataFrame.\n",
      "Try using .loc[row_indexer,col_indexer] = value instead\n",
      "\n",
      "See the caveats in the documentation: https://pandas.pydata.org/pandas-docs/stable/user_guide/indexing.html#returning-a-view-versus-a-copy\n",
      "  df2023['video_timeNew'] = editedDateFormat\n"
     ]
    }
   ],
   "source": [
    "videos2023 = ['dropittothefloor.csv', 'itgirl.csv', 'mwahmwah.csv', 'thisyear.csv', 'watertyla.csv']\n",
    "df2023 = pd.DataFrame()\n",
    "\n",
    "\n",
    "subset_df2023 = df[(df['sound'] == 'dropittothefloor') | (df['sound'] == 'itgirl')  | (df['sound'] == 'thisyear') | (df['sound'] == 'mwahmwah') | (df['sound'] == 'watertyla')]\n",
    "subset_df2023['video_playcount_int'] = pd.to_numeric(subset_df2023['video_playcount'], errors='coerce')\n",
    "\n",
    "df2023 = subset_df2023[(pd.notna(subset_df2023['video_playcount_int'])) & (subset_df2023['video_playcount_int'] > 100000)]\n",
    "\n",
    "#date format so that only the year, month, and day is shown\n",
    "editedDateFormat = []\n",
    "\n",
    "#extract and add a new column\n",
    "for row in df2023['video_timestamp_new']:\n",
    "    rowdate = str(row)[0:10]\n",
    "    rowdatefinal = pd.to_datetime(rowdate, errors='coerce')\n",
    "    editedDateFormat.append(rowdatefinal)\n",
    "    \n",
    "\n",
    "df2023['video_timeNew'] = editedDateFormat"
   ]
  },
  {
   "cell_type": "code",
   "execution_count": 94,
   "metadata": {},
   "outputs": [],
   "source": [
    "itgirlDF = df2023[df2023['sound']=='itgirl']\n",
    "thisyearDF = df2023[df2023['sound']=='thisyear']\n",
    "waterDF = df2023[df2023['sound']=='watertyla']"
   ]
  },
  {
   "cell_type": "code",
   "execution_count": 95,
   "metadata": {},
   "outputs": [
    {
     "name": "stdout",
     "output_type": "stream",
     "text": [
      "2023-10-21\n",
      "63\n",
      "[326900.0, 21200.0, 254100.0, 254100.0, 43600.0, 576.0, 22700.0, 3100000.0, 2900000.0, 1966.0, nan, 6029.0, 188000.0, 863.0, 570600.0, 6200000.0, 568900.0, 540700.0, 91200.0, 9967.0, 63000.0, 4209.0, 15100.0, 1473.0, 2000000.0, 451400.0, 608500.0, 3100000.0, 40200.0, 101100.0, 784900.0, 1200000.0, 1800000.0, 24200.0, 847400.0, 11700.0, 486400.0, 32700.0, 3819.0, 72500.0, 764900.0, 4297.0, 215700.0, 5090.0, 1107.0, 10100000.0, 440100.0, 1918.0, 519.0, 1200000.0, 339.0, 27500.0, 2300000.0, 553.0, 612800.0, 22900.0, 261000.0, 976800.0, 3500000.0, 88500.0, 1449.0, 10400000.0, 1300000.0]\n",
      "Counter({'macro': 19, 'micro': 14, 'mega': 13, 'nano': 11, 'none': 5, 'NaN': 1})\n"
     ]
    }
   ],
   "source": [
    "itgirlmaxdate = max(Counter(itgirlDF['video_timeNew']), key = Counter(itgirlDF['video_timeNew']).get)\n",
    "stringdateItgirl = str(itgirlmaxdate)[0:10]\n",
    "itgirlmaxdateConverted = datetime.strptime(stringdateItgirl, '%Y-%m-%d')\n",
    "itgirldFinalDate = itgirlmaxdateConverted.date()\n",
    "\n",
    "itgirlcounter = (Counter(itgirlDF['video_timeNew']))\n",
    "itgirlmaxvideoValue = itgirlcounter[itgirlmaxdate]\n",
    "print(itgirldFinalDate)\n",
    "print(itgirlmaxvideoValue)\n",
    "\n",
    "\n",
    "itgirlPeak = datetime.strptime('2023-10-21', '%Y-%m-%d')\n",
    "itgirlPeakSubset = itgirlDF[itgirlDF['video_timeNew'] == itgirlPeak]\n",
    "#63 videos posted on the peak\n",
    "\n",
    "itgirlInfluencerPEAK = []\n",
    "itgirlFollowerCountPEAK = []\n",
    "\n",
    "for followercount in itgirlPeakSubset['author_followercount']:\n",
    "    itgirlFollowerCountPEAK.append(followercount)\n",
    "    itgirlInfluencerPEAK.append(influencer_type(followercount))\n",
    "\n",
    "print(itgirlFollowerCountPEAK)\n",
    "counterItgirlPeak = Counter(itgirlInfluencerPEAK)\n",
    "print(counterItgirlPeak)"
   ]
  },
  {
   "cell_type": "code",
   "execution_count": 96,
   "metadata": {},
   "outputs": [
    {
     "name": "stdout",
     "output_type": "stream",
     "text": [
      "2023-05-31\n",
      "27\n",
      "[299300.0, 4300000.0, 14200.0, 2100000.0, 5000000.0, 4000000.0, 788600.0, 3092.0, 191200.0, 11200000.0, 37500000.0, 178300.0, 198000.0, 4300000.0, 14200000.0, 66300.0, 12700.0, 1100000.0, 1200000.0, 815.0, 481000.0, 124200.0, 7700000.0, 319600.0, 50700.0, 6400000.0, 3953.0]\n",
      "Counter({'mega': 12, 'macro': 8, 'micro': 4, 'nano': 2, 'none': 1})\n"
     ]
    }
   ],
   "source": [
    "thisyearmaxdate = max(Counter(thisyearDF['video_timeNew']), key = Counter(thisyearDF['video_timeNew']).get)\n",
    "stringdateThisyear = str(thisyearmaxdate)[0:10]\n",
    "thisyearmaxdateConverted = datetime.strptime(stringdateThisyear, '%Y-%m-%d')\n",
    "thisyearFinalDate = thisyearmaxdateConverted.date()\n",
    "\n",
    "thisyearcounter = (Counter(thisyearDF['video_timeNew']))\n",
    "thisyearmaxvideoValue = thisyearcounter[thisyearmaxdate]\n",
    "print(thisyearFinalDate)\n",
    "print(thisyearmaxvideoValue)\n",
    "\n",
    "\n",
    "thisyearPeak = datetime.strptime('2023-05-31', '%Y-%m-%d')\n",
    "thisyearPeakSubset = thisyearDF[thisyearDF['video_timeNew'] == thisyearPeak]\n",
    "#27 videos posted on the peak\n",
    "\n",
    "thisyearInfluencerPEAK = []\n",
    "thisyearFollowerCountPEAK = []\n",
    "\n",
    "for followercount in thisyearPeakSubset['author_followercount']:\n",
    "    thisyearFollowerCountPEAK.append(followercount)\n",
    "    thisyearInfluencerPEAK.append(influencer_type(followercount))\n",
    "\n",
    "print(thisyearFollowerCountPEAK)\n",
    "counterThisyearPeak = Counter(thisyearInfluencerPEAK)\n",
    "print(counterThisyearPeak)"
   ]
  },
  {
   "cell_type": "code",
   "execution_count": 97,
   "metadata": {},
   "outputs": [
    {
     "name": "stdout",
     "output_type": "stream",
     "text": [
      "2023-10-25\n",
      "45\n",
      "[5577.0, 1700000.0, 28700.0, 116600.0, 29800.0, 2300000.0, 473800.0, 3500000.0, 391600.0, 7700000.0, 20000000.0, 1300000.0, 764.0, 1611.0, 3400000.0, 4900000.0, 2100000.0, 4328.0, 11300000.0, 11300000.0, 126200.0, 2700000.0, 3309.0, 111500.0, 6181.0, 409600.0, 11200.0, 3900000.0, 225100.0, 231.0, 3125.0, 164200.0, 68400.0, 278600.0, 3825.0, 3825.0, 33300.0, 199300.0, 349.0, 19500000.0, 93300.0, 14800.0, 1800000.0, 8142.0, 45200.0]\n",
      "Counter({'mega': 15, 'macro': 10, 'nano': 9, 'micro': 8, 'none': 3})\n"
     ]
    }
   ],
   "source": [
    "watermaxdate = max(Counter(waterDF['video_timeNew']), key = Counter(waterDF['video_timeNew']).get)\n",
    "stringdateWater = str(watermaxdate)[0:10]\n",
    "watermaxdateConverted = datetime.strptime(stringdateWater, '%Y-%m-%d')\n",
    "waterFinalDate = watermaxdateConverted.date()\n",
    "\n",
    "watercounter = (Counter(waterDF['video_timeNew']))\n",
    "watermaxvideoValue = watercounter[watermaxdate]\n",
    "print(waterFinalDate)\n",
    "print(watermaxvideoValue)\n",
    "\n",
    "\n",
    "waterPeak = datetime.strptime('2023-10-25', '%Y-%m-%d')\n",
    "waterPeakSubset = waterDF[waterDF['video_timeNew'] == waterPeak]\n",
    "#45 videos posted on the peak\n",
    "\n",
    "waterInfluencerPEAK = []\n",
    "waterFollowerCountPEAK = []\n",
    "\n",
    "for followercount in waterPeakSubset['author_followercount']:\n",
    "    waterFollowerCountPEAK.append(followercount)\n",
    "    waterInfluencerPEAK.append(influencer_type(followercount))\n",
    "\n",
    "print(waterFollowerCountPEAK)\n",
    "counterWaterPeak = Counter(waterInfluencerPEAK)\n",
    "print(counterWaterPeak)"
   ]
  },
  {
   "cell_type": "code",
   "execution_count": 98,
   "metadata": {},
   "outputs": [
    {
     "name": "stdout",
     "output_type": "stream",
     "text": [
      "2023-10-10\n",
      "2023-04-17\n",
      "2023-09-27\n"
     ]
    }
   ],
   "source": [
    "itgirlDay1 = datetime.strptime('2023-09-30', '%Y-%m-%d')\n",
    "thisyearDay1 = datetime.strptime('2023-03-05', '%Y-%m-%d')\n",
    "waterDay1 = datetime.strptime('2023-08-31', '%Y-%m-%d')\n",
    "\n",
    "\n",
    "itgirl_middate = itgirlDay1.date() + (itgirldFinalDate - itgirlDay1.date()) / 2\n",
    "\n",
    "thisyear_middate = thisyearDay1.date() + (thisyearFinalDate - thisyearDay1.date()) / 2\n",
    "\n",
    "water_middate = waterDay1.date() + (waterFinalDate - waterDay1.date()) / 2\n",
    "\n",
    "\n",
    "print(itgirl_middate)\n",
    "print(thisyear_middate)\n",
    "print(water_middate)\n"
   ]
  },
  {
   "cell_type": "code",
   "execution_count": 99,
   "metadata": {},
   "outputs": [
    {
     "name": "stdout",
     "output_type": "stream",
     "text": [
      "        sound  year             video_id      video_timestamp video_duration  \\\n",
      "1865   itgirl  2023  7288444114658479402  2023-10-10T17:25:50           59.0   \n",
      "2138   itgirl  2023  7288350810746932522  2023-10-10T11:23:41           28.0   \n",
      "2737   itgirl  2023  7288495712701041951  2023-10-10T20:45:58            9.0   \n",
      "2939   itgirl  2023  7288380797986426114  2023-10-10T13:20:01           10.0   \n",
      "3824   itgirl  2023  7288268643220147462  2023-10-10T06:04:42            9.0   \n",
      "5543   itgirl  2023  7288313870194593057  2023-10-10T09:00:15           11.0   \n",
      "5838   itgirl  2023  7288327664568405281  2023-10-10T09:53:47           30.0   \n",
      "7385   itgirl  2023  7288308253815999774  2023-10-10T08:38:32           14.0   \n",
      "8549   itgirl  2023  7288272263638469918  2023-10-10T06:18:57           23.0   \n",
      "8657   itgirl  2023  7288359356008025377  2023-10-10T11:56:46           18.0   \n",
      "9084   itgirl  2023  7288185716067110174  2023-10-10T00:43:02           15.0   \n",
      "10468  itgirl  2023  7288543354193825055  2023-10-10T23:50:56           17.0   \n",
      "10708  itgirl  2023  7288519369385184555  2023-10-10T22:17:49           10.0   \n",
      "10820  itgirl  2023  7288251291371851014  2023-10-10T04:57:22            9.0   \n",
      "10994  itgirl  2023  7288341487253851425  2023-10-10T10:47:25           14.0   \n",
      "11105  itgirl  2023  7288415473216146734  2023-10-10T15:34:48           26.0   \n",
      "12925  itgirl  2023  7288405252896754987  2023-10-10T14:54:56           10.0   \n",
      "14015  itgirl  2023  7288356673826164001  2023-10-10T11:46:21            6.0   \n",
      "14129  itgirl  2023  7288435026872552747  2023-10-10T16:50:34           10.0   \n",
      "14207  itgirl  2023  7288537535037443329  2023-10-10T23:28:14            8.0   \n",
      "14368  itgirl  2023  7288352709625875755  2023-10-10T11:31:06            6.0   \n",
      "14964  itgirl  2023  7288517535815781662  2023-10-10T22:10:41           13.0   \n",
      "15046  itgirl  2023  7288416710275697952  2023-10-10T15:39:19            5.0   \n",
      "15419  itgirl  2023  7288186598309498155  2023-10-10T00:46:28           13.0   \n",
      "15601  itgirl  2023  7288246515301240096  2023-10-10T04:38:56           10.0   \n",
      "16532  itgirl  2023  7288240693825309985  2023-10-10T04:16:19            6.0   \n",
      "16832  itgirl  2023  7288361669598743814  2023-10-10T12:05:42           34.0   \n",
      "17906  itgirl  2023  7288426816992496942  2023-10-10T16:18:49           12.0   \n",
      "18667  itgirl  2023  7288404441219288353  2023-10-10T14:51:42            7.0   \n",
      "19293  itgirl  2023  7288413531706379552  2023-10-10T15:27:00            8.0   \n",
      "20464  itgirl  2023  7288454939456589099  2023-10-10T18:07:47           13.0   \n",
      "21380  itgirl  2023  7288226488321707272  2023-10-10T03:21:09            8.0   \n",
      "23092  itgirl  2023  7288327177001504018  2023-10-10T09:51:50           57.0   \n",
      "25680  itgirl  2023  7288399623218138401  2023-10-10T14:33:01           37.0   \n",
      "26775  itgirl  2023  7288526386699013419  2023-10-10T22:45:08           17.0   \n",
      "27384  itgirl  2023  7288370917770792238  2023-10-10T12:41:46           10.0   \n",
      "\n",
      "      video_likecount video_commentcount video_sharecount video_playcount  \\\n",
      "1865          23500.0              368.0            873.0        146900.0   \n",
      "2138         116200.0              163.0            467.0        856400.0   \n",
      "2737         201000.0             2795.0          20100.0       1300000.0   \n",
      "2939          27100.0              758.0            513.0        219700.0   \n",
      "3824          33300.0              223.0            829.0        271900.0   \n",
      "5543          58400.0               50.0            259.0        779900.0   \n",
      "5838          23700.0               62.0            191.0        479500.0   \n",
      "7385         110000.0              237.0           1409.0        764600.0   \n",
      "8549          35400.0              138.0             64.0        541300.0   \n",
      "8657         198100.0             2253.0          13300.0       1800000.0   \n",
      "9084          70600.0              503.0           3743.0        206400.0   \n",
      "10468         30700.0              265.0           1154.0        151200.0   \n",
      "10708         62300.0             3034.0            584.0        387000.0   \n",
      "10820         41400.0             1676.0            859.0        181800.0   \n",
      "10994         26400.0               94.0            631.0        305800.0   \n",
      "11105        829100.0             1271.0           1818.0       9200000.0   \n",
      "12925        164700.0              730.0           6646.0        819400.0   \n",
      "14015        340900.0             1922.0          19400.0       1300000.0   \n",
      "14129         35100.0              106.0            206.0        279700.0   \n",
      "14207        122100.0              113.0            820.0       1700000.0   \n",
      "14368        257500.0              890.0          12400.0       1300000.0   \n",
      "14964        215100.0             3370.0           3792.0       1400000.0   \n",
      "15046       1700000.0             4046.0         105000.0       9400000.0   \n",
      "15419        133600.0              491.0           9292.0        697000.0   \n",
      "15601        110600.0              200.0           1606.0       1700000.0   \n",
      "16532         64600.0              307.0           4575.0        541700.0   \n",
      "16832        899000.0             2687.0          13800.0       8300000.0   \n",
      "17906        178000.0             1129.0          10700.0        762700.0   \n",
      "18667         49900.0              433.0           4693.0        848300.0   \n",
      "19293         81400.0              139.0           7349.0        441100.0   \n",
      "20464        142400.0              276.0           5050.0       1800000.0   \n",
      "21380         76400.0              389.0           2247.0        454900.0   \n",
      "23092         76300.0              346.0           5077.0        420200.0   \n",
      "25680         45400.0              219.0            848.0        535100.0   \n",
      "26775         62300.0              403.0           2781.0        308500.0   \n",
      "27384         32700.0              131.0           1033.0        198600.0   \n",
      "\n",
      "                                       video_description  ...  \\\n",
      "1865   That gangs all here! #MonsterHigh #MonsterHigh...  ...   \n",
      "2138   if you wanna send me a nail design, dm on IG: ...  ...   \n",
      "2737   i couldnt breathe while making this #meme #lea...  ...   \n",
      "2939       Как вы назвали своего чибика? #genshinimpact   ...   \n",
      "3824   karl’s ver oml #karljacobs #karl #karljacobsed...  ...   \n",
      "5543                                             Łatwo 🤠  ...   \n",
      "5838   the secret is out, here’s how to be an itgirl ...  ...   \n",
      "7385   slow down hyein 😭😭 #newjeans #kpopfyp #kpop #f...  ...   \n",
      "8549           Replying to @Xenvina  uhm heres more guys  ...   \n",
      "8657   New in this week! 💖 #newin #rundontwalk #pink ...  ...   \n",
      "9084                                      We silly goose  ...   \n",
      "10468  was gonna just do connie and sasha but then de...  ...   \n",
      "10708  Now they will literally call anyone a pick me ...  ...   \n",
      "10820  Im still struggling to understand the dialects...  ...   \n",
      "10994  Brandy really did make their size bigger bc wh...  ...   \n",
      "11105  and you can still see them a lil bit BSHDHWHSH...  ...   \n",
      "12925  A cutie pie✨ #astarion#astarionbg3#bg3 #vampir...  ...   \n",
      "14015  his body is so                                ...  ...   \n",
      "14129  I LITERALLY CANT #blackpinkistherevolution #BL...  ...   \n",
      "14207  Fall vibes all year round🍂☁️✨ #getdressedwithm...  ...   \n",
      "14368  I've always wanted that cupcake machine#barbie...  ...   \n",
      "14964                 #aiart #artstudents #chicago #fyp   ...   \n",
      "15046  Lilo is crazy 👹 #cat #catoftiktok #lilochipie ...  ...   \n",
      "15419  Patrick Bateman girlboss confirmed            ...  ...   \n",
      "15601                                                NaN  ...   \n",
      "16532  Try on new @BERSHKA boots for fall 🍂🍁 #newinbe...  ...   \n",
      "16832  sometimes i just want ✨curls✨ but not 😡curls😡!...  ...   \n",
      "17906               Hes an it girl #porsche #porsche911   ...   \n",
      "18667  #nikitka #nikita #nikitaalokin #nikitka_oficja...  ...   \n",
      "19293  aka „pocałujta w d00pę wójta” 🤠🤠🤠 #imjustagirl...  ...   \n",
      "20464  halloween is right around the corner so order ...  ...   \n",
      "21380                          They’re kinda iconic tho…  ...   \n",
      "23092  Тома - лучший мужчина #геншин #геншинимпакт #g...  ...   \n",
      "25680                           to jest uzależnienie#dc   ...   \n",
      "26775  I was very excited about getting the taunts to...  ...   \n",
      "27384  LIKE?????? IM LOST FOR WORDS.  #newjeans #haer...  ...   \n",
      "\n",
      "               author_name                                         author_bio  \\\n",
      "1865    Angel Loza Thurlow  Latino. He/him. I like Dolls, BTS, and BL Dram...   \n",
      "2138          Anacrylics 🦋  🩵 High Quality Nail Brand 💅🏼 🦋 Shop Anacrylics 👇🏼   \n",
      "2737             literally                          what’s cookin good lookin   \n",
      "2939                Ingrid                                            Царица.   \n",
      "3824                beaqst                                                 ʚɞ   \n",
      "5543             Chlodnica  Ubrania, planszówki, codzienność 🤠  💌 chlodnic...   \n",
      "5838                 Eline  she was a skater girl  IG: cloverskate  enquir...   \n",
      "7385               dylan 🧸               18 mainly lsrfm / nwjns twt: tokkiyz   \n",
      "8549             Dhenny ྀི        🇵🇭 Snap: filo.dh3nny Vids for contents ONLY   \n",
      "8657       Flying Tiger UK                         Things that make you smile   \n",
      "9084               phantom  New bike loading… Baton Rouge, Louisiana  636p...   \n",
      "10468                 carp  #BLM #ACAB ✊🏼✊🏽✊🏾✊🏿  alt: @Carp 😯  FREE PALEST...   \n",
      "10708            .°•☆🎧☆•°.  Autism/ADHD I❤️My Bf Bugs are cool Melanie Mar...   \n",
      "10820                 inah  🇧🇷🇮🇹 currently living in Italy boyfriend appli...   \n",
      "10994               isa 🇻🇪  🇵🇹📍 19 I speak 4 languages Someoneisabsnss@gma...   \n",
      "11105             Isabelle       look away.  isabellemerrittcontact@gmail.com   \n",
      "12925                 Jade  Lvl 21 ✨(⊃ꈍᴗꈍ⊃) 8k✨ I mainly do art videos + o...   \n",
      "14015     koreandomination                             Italy no stealing/spam   \n",
      "14129            bp outdid                                          yes, and?   \n",
      "14207                kylie  Kylie  Australia🪐  💌 - kylie@wearekomodo.com @...   \n",
      "14368               oh wow                        Editor Marvel fan Christian   \n",
      "14964        Cosplay Freak                                        No bio yet.   \n",
      "15046           lilochipie  Ears, eyes and a strong character! 😈 @lilochip...   \n",
      "15419                 mars  \"I'm not used to being loved. I wouldn't know ...   \n",
      "15601                 lulu  fashion student in Paris  instagram: lululindi...   \n",
      "16532   Martyna Kurosińska                Hi 🫶 💌martynakurosinska98@gmail.com   \n",
      "16832          megan cynth           glad you’re hair🤎 💌megan.cynth@gmail.com   \n",
      "17906                  Mun  Insta: mundanewaifu Junji ito car owner 🫡 Nige...   \n",
      "18667         nikita.shoty                                            Fanpage   \n",
      "19293  Ola I IG: @olaforma  📸 @olaforma  popkultura & fun & cringe & being...   \n",
      "20464                Aoife  (“eefah”) She/Her 💗☠️⚔️ 💌: collab.aoife@gmail....   \n",
      "21380          rubysloannn          aus  insta rubysloann rubes3490@gmail.com   \n",
      "23092          soskamakaka             подписывайтесь на Ютуб все новости тгк   \n",
      "25680              imnat🎀🫧                                snap:not_natalia666   \n",
      "26775             𒌐 Yaga 𒌐  𒌐B E R S E R K E R𒌐 I hate you Secretly modify...   \n",
      "27384              ᴍɪʟʟᴀ ✰  ✨Girl Group Enthusiast ✨ NewJeans brainrot ヾ(๑...   \n",
      "\n",
      "      author_followercount author_likecounts  video_stickers  video_is_ad  \\\n",
      "1865               61700.0         2600000.0             NaN        False   \n",
      "2138             7200000.0       276500000.0             NaN        False   \n",
      "2737                7032.0          224000.0             NaN        False   \n",
      "2939               41200.0         7200000.0             NaN        False   \n",
      "3824               11400.0          498800.0             NaN        False   \n",
      "5543              265000.0        17100000.0             NaN        False   \n",
      "5838              151900.0         9000000.0             NaN        False   \n",
      "7385               35400.0         9600000.0             NaN        False   \n",
      "8549               44800.0        11300000.0             NaN        False   \n",
      "8657               59500.0         2100000.0             NaN        False   \n",
      "9084               49700.0          676100.0             NaN        False   \n",
      "10468              19000.0         2200000.0             NaN        False   \n",
      "10708               1385.0          236300.0             NaN        False   \n",
      "10820               1473.0          305100.0             NaN        False   \n",
      "10994             187200.0         3400000.0             NaN        False   \n",
      "11105             106800.0         7500000.0             NaN        False   \n",
      "12925               8904.0          529500.0             NaN        False   \n",
      "14015            1400000.0       100700000.0             NaN        False   \n",
      "14129              21200.0         7900000.0             NaN        False   \n",
      "14207             441200.0        10800000.0             NaN        False   \n",
      "14368               1353.0          276800.0             NaN        False   \n",
      "14964              93000.0         2900000.0             NaN        False   \n",
      "15046             594100.0        24200000.0             NaN        False   \n",
      "15419               9067.0         1300000.0             NaN        False   \n",
      "15601              76800.0         4500000.0             NaN        False   \n",
      "16532               3207.0          132900.0             NaN        False   \n",
      "16832             110900.0         4800000.0             NaN        False   \n",
      "17906              37400.0         2100000.0             NaN        False   \n",
      "18667              70500.0         2400000.0             NaN        False   \n",
      "19293              12800.0         1800000.0             NaN        False   \n",
      "20464              15100.0         4000000.0             NaN        False   \n",
      "21380              38100.0         9900000.0             NaN        False   \n",
      "23092              89400.0         3000000.0             NaN        False   \n",
      "25680               2637.0          205900.0             NaN        False   \n",
      "26775               1217.0          152600.0             NaN        False   \n",
      "27384               3067.0          659200.0             NaN        False   \n",
      "\n",
      "      video_locationcreated  video_timestamp_new video_playcount_int  \\\n",
      "1865                     US  2023-10-10 17:25:50            146900.0   \n",
      "2138                     US  2023-10-10 11:23:41            856400.0   \n",
      "2737                     US  2023-10-10 20:45:58           1300000.0   \n",
      "2939                     US  2023-10-10 13:20:01            219700.0   \n",
      "3824                     PH  2023-10-10 06:04:42            271900.0   \n",
      "5543                     PL  2023-10-10 09:00:15            779900.0   \n",
      "5838                     NL  2023-10-10 09:53:47            479500.0   \n",
      "7385                     US  2023-10-10 08:38:32            764600.0   \n",
      "8549                     KR  2023-10-10 06:18:57            541300.0   \n",
      "8657                     GB  2023-10-10 11:56:46           1800000.0   \n",
      "9084                     US  2023-10-10 00:43:02            206400.0   \n",
      "10468                    US  2023-10-10 23:50:56            151200.0   \n",
      "10708                    US  2023-10-10 22:17:49            387000.0   \n",
      "10820                    IT  2023-10-10 04:57:22            181800.0   \n",
      "10994                    PT  2023-10-10 10:47:25            305800.0   \n",
      "11105                    US  2023-10-10 15:34:48           9200000.0   \n",
      "12925                    US  2023-10-10 14:54:56            819400.0   \n",
      "14015                    IT  2023-10-10 11:46:21           1300000.0   \n",
      "14129                    US  2023-10-10 16:50:34            279700.0   \n",
      "14207                    AU  2023-10-10 23:28:14           1700000.0   \n",
      "14368                    US  2023-10-10 11:31:06           1300000.0   \n",
      "14964                    US  2023-10-10 22:10:41           1400000.0   \n",
      "15046                    FR  2023-10-10 15:39:19           9400000.0   \n",
      "15419                    US  2023-10-10 00:46:28            697000.0   \n",
      "15601                    DE  2023-10-10 04:38:56           1700000.0   \n",
      "16532                    PL  2023-10-10 04:16:19            541700.0   \n",
      "16832                    CA  2023-10-10 12:05:42           8300000.0   \n",
      "17906                    US  2023-10-10 16:18:49            762700.0   \n",
      "18667                    PL  2023-10-10 14:51:42            848300.0   \n",
      "19293                    PL  2023-10-10 15:27:00            441100.0   \n",
      "20464                    US  2023-10-10 18:07:47           1800000.0   \n",
      "21380                    AU  2023-10-10 03:21:09            454900.0   \n",
      "23092                    BY  2023-10-10 09:51:50            420200.0   \n",
      "25680                    PL  2023-10-10 14:33:01            535100.0   \n",
      "26775                    US  2023-10-10 22:45:08            308500.0   \n",
      "27384                    US  2023-10-10 12:41:46            198600.0   \n",
      "\n",
      "      video_timeNew  \n",
      "1865     2023-10-10  \n",
      "2138     2023-10-10  \n",
      "2737     2023-10-10  \n",
      "2939     2023-10-10  \n",
      "3824     2023-10-10  \n",
      "5543     2023-10-10  \n",
      "5838     2023-10-10  \n",
      "7385     2023-10-10  \n",
      "8549     2023-10-10  \n",
      "8657     2023-10-10  \n",
      "9084     2023-10-10  \n",
      "10468    2023-10-10  \n",
      "10708    2023-10-10  \n",
      "10820    2023-10-10  \n",
      "10994    2023-10-10  \n",
      "11105    2023-10-10  \n",
      "12925    2023-10-10  \n",
      "14015    2023-10-10  \n",
      "14129    2023-10-10  \n",
      "14207    2023-10-10  \n",
      "14368    2023-10-10  \n",
      "14964    2023-10-10  \n",
      "15046    2023-10-10  \n",
      "15419    2023-10-10  \n",
      "15601    2023-10-10  \n",
      "16532    2023-10-10  \n",
      "16832    2023-10-10  \n",
      "17906    2023-10-10  \n",
      "18667    2023-10-10  \n",
      "19293    2023-10-10  \n",
      "20464    2023-10-10  \n",
      "21380    2023-10-10  \n",
      "23092    2023-10-10  \n",
      "25680    2023-10-10  \n",
      "26775    2023-10-10  \n",
      "27384    2023-10-10  \n",
      "\n",
      "[36 rows x 22 columns]\n",
      "[61700.0, 7200000.0, 7032.0, 41200.0, 11400.0, 265000.0, 151900.0, 35400.0, 44800.0, 59500.0, 49700.0, 19000.0, 1385.0, 1473.0, 187200.0, 106800.0, 8904.0, 1400000.0, 21200.0, 441200.0, 1353.0, 93000.0, 594100.0, 9067.0, 76800.0, 3207.0, 110900.0, 37400.0, 70500.0, 12800.0, 15100.0, 38100.0, 89400.0, 2637.0, 1217.0, 3067.0]\n",
      "Counter({'micro': 17, 'nano': 10, 'macro': 7, 'mega': 2})\n"
     ]
    }
   ],
   "source": [
    "itgirlMiddleDate = datetime.strptime('2023-10-10', '%Y-%m-%d')\n",
    "itgirlMidSubset = itgirlDF[itgirlDF['video_timeNew']==itgirlMiddleDate]\n",
    "print(itgirlMidSubset)\n",
    "#36 videos\n",
    "\n",
    "itgirlInfluencerMID = []\n",
    "itgirlFollowerCountMID = []\n",
    "\n",
    "for followercount in itgirlMidSubset['author_followercount']:\n",
    "    itgirlFollowerCountMID.append(followercount)\n",
    "    itgirlInfluencerMID.append(influencer_type(followercount))\n",
    "\n",
    "print(itgirlFollowerCountMID)\n",
    "counterItgirlMiddle = Counter(itgirlInfluencerMID)\n",
    "print(counterItgirlMiddle)"
   ]
  },
  {
   "cell_type": "code",
   "execution_count": 100,
   "metadata": {},
   "outputs": [
    {
     "name": "stdout",
     "output_type": "stream",
     "text": [
      "          sound  year             video_id      video_timestamp  \\\n",
      "2383   thisyear  2023  7223097871774649606  2023-04-17T15:08:50   \n",
      "12750  thisyear  2023  7223061534677765382  2023-04-17T12:47:48   \n",
      "16203  thisyear  2023  7222997522728373510  2023-04-17T08:39:25   \n",
      "16924  thisyear  2023  7223078702479838491  2023-04-17T13:54:33   \n",
      "18978  thisyear  2023  7223128303186578690  2023-04-17T17:07:03   \n",
      "26054  thisyear  2023  7223091414450588933  2023-04-17T14:43:46   \n",
      "\n",
      "      video_duration video_likecount video_commentcount video_sharecount  \\\n",
      "2383            10.0        372200.0             1215.0          31900.0   \n",
      "12750           23.0         63000.0              536.0          11800.0   \n",
      "16203           15.0       1600000.0             3421.0          16900.0   \n",
      "16924           15.0         64700.0              410.0           1057.0   \n",
      "18978           15.0         42600.0              501.0            386.0   \n",
      "26054           15.0         25700.0              253.0            316.0   \n",
      "\n",
      "      video_playcount                                  video_description  ...  \\\n",
      "2383        3800000.0  📍Zanzibar 🇹🇿 #zanzibar #travel #africa #beach ...  ...   \n",
      "12750       1400000.0  J’ai sacrifié mon fauteuil pour la vidéo, j’ét...  ...   \n",
      "16203      17300000.0                                                💚💚💚  ...   \n",
      "16924        730000.0                                   😇🤍 #fyp #foryou   ...   \n",
      "18978       1200000.0  Replying to @ogctbjj IG : notjustaya #arab #ar...  ...   \n",
      "26054        413800.0  another one#lili_jl #fyyyyyyyyyyyyyyyyyyp #4u ...  ...   \n",
      "\n",
      "                          author_name  \\\n",
      "2383                     Angy Explore   \n",
      "12750  Julie | Astuces Cheveux & Peau   \n",
      "16203                Manuela Genovese   \n",
      "16924                         Melissa   \n",
      "18978                            aya🤍   \n",
      "26054                    /ᐠ｡ꞈ｡ᐟ\\LiLi♡   \n",
      "\n",
      "                                              author_bio author_followercount  \\\n",
      "2383   Traveling the world 🌍🌎🌏 Travel | Experiences |...               8099.0   \n",
      "12750  Beauté • Cheveux • Skin Care • Maison 🌿 Mes as...              55600.0   \n",
      "16203  20 🍝 🇮🇹  ig: maagen_ Maira’s sis 💌: manuelagen...            2800000.0   \n",
      "16924                                        No bio yet.             140100.0   \n",
      "18978  Arab gal in NZ 🌙 Instagram ~ notjustaya Collab...             748800.0   \n",
      "26054  GOAL 10k 🔥✨ don't be worries allah with us توج...               9137.0   \n",
      "\n",
      "      author_likecounts  video_stickers  video_is_ad video_locationcreated  \\\n",
      "2383           390400.0             NaN        False                    FR   \n",
      "12750          520000.0             NaN        False                    FR   \n",
      "16203       168200000.0             NaN        False                    IT   \n",
      "16924         1600000.0             NaN        False                    AT   \n",
      "18978        25400000.0             NaN        False                    NZ   \n",
      "26054           93100.0             NaN        False                    TN   \n",
      "\n",
      "       video_timestamp_new video_playcount_int video_timeNew  \n",
      "2383   2023-04-17 15:08:50           3800000.0    2023-04-17  \n",
      "12750  2023-04-17 12:47:48           1400000.0    2023-04-17  \n",
      "16203  2023-04-17 08:39:25          17300000.0    2023-04-17  \n",
      "16924  2023-04-17 13:54:33            730000.0    2023-04-17  \n",
      "18978  2023-04-17 17:07:03           1200000.0    2023-04-17  \n",
      "26054  2023-04-17 14:43:46            413800.0    2023-04-17  \n",
      "\n",
      "[6 rows x 22 columns]\n",
      "[8099.0, 55600.0, 2800000.0, 140100.0, 748800.0, 9137.0]\n",
      "Counter({'nano': 2, 'macro': 2, 'micro': 1, 'mega': 1})\n"
     ]
    }
   ],
   "source": [
    "thisyearMiddleDate = datetime.strptime('2023-04-17', '%Y-%m-%d')\n",
    "thisyearMidSubset = thisyearDF[thisyearDF['video_timeNew']==thisyearMiddleDate]\n",
    "print(thisyearMidSubset)\n",
    "# 6 videos\n",
    "\n",
    "thisyearInfluencerMID = []\n",
    "thisyearFollowerCountMID = []\n",
    "\n",
    "for followercount in thisyearMidSubset['author_followercount']:\n",
    "    thisyearFollowerCountMID.append(followercount)\n",
    "    thisyearInfluencerMID.append(influencer_type(followercount))\n",
    "\n",
    "print(thisyearFollowerCountMID)\n",
    "counterThisyearMiddle = Counter(thisyearInfluencerMID)\n",
    "print(counterThisyearMiddle)\n"
   ]
  },
  {
   "cell_type": "code",
   "execution_count": 101,
   "metadata": {},
   "outputs": [
    {
     "name": "stdout",
     "output_type": "stream",
     "text": [
      "           sound  year             video_id      video_timestamp  \\\n",
      "2140   watertyla  2023  7283526428786773290  2023-09-27T11:22:38   \n",
      "2533   watertyla  2023  7283549806004292897  2023-09-27T12:53:13   \n",
      "3438   watertyla  2023  7283664801451019525  2023-09-27T20:19:28   \n",
      "3557   watertyla  2023  7283682529335463198  2023-09-27T21:28:23   \n",
      "4457   watertyla  2023  7283507146975759649  2023-09-27T10:07:44   \n",
      "4573   watertyla  2023  7283622293429882117  2023-09-27T17:34:32   \n",
      "5151   watertyla  2023  7283666579211160878  2023-09-27T20:26:28   \n",
      "8090   watertyla  2023  7283387983992982789  2023-09-27T02:25:16   \n",
      "9308   watertyla  2023  7283682924904434949  2023-09-27T21:29:51   \n",
      "9850   watertyla  2023  7283666298372902190  2023-09-27T20:25:20   \n",
      "12412  watertyla  2023  7283590113009978630  2023-09-27T15:29:39   \n",
      "13403  watertyla  2023  7283516935952993542  2023-09-27T10:45:39   \n",
      "13587  watertyla  2023  7283382911024368897  2023-09-27T02:05:37   \n",
      "14155  watertyla  2023  7283693925527768350  2023-09-27T22:12:34   \n",
      "14209  watertyla  2023  7283539910093557038  2023-09-27T12:14:55   \n",
      "15147  watertyla  2023  7283551060260572449  2023-09-27T12:58:05   \n",
      "15739  watertyla  2023  7283500784778546438  2023-09-27T09:42:59   \n",
      "15896  watertyla  2023  7283582643424316702  2023-09-27T15:00:46   \n",
      "15987  watertyla  2023  7283566038246182190  2023-09-27T13:56:17   \n",
      "17934  watertyla  2023  7283367579450739974  2023-09-27T01:06:06   \n",
      "18741  watertyla  2023  7283408035710536992  2023-09-27T03:43:07   \n",
      "19634  watertyla  2023  7283529189590961414  2023-09-27T11:33:13   \n",
      "20385  watertyla  2023  7283646278087527722  2023-09-27T19:07:40   \n",
      "20416  watertyla  2023  7283596928271600938  2023-09-27T15:56:13   \n",
      "21276  watertyla  2023  7283532802279099680  2023-09-27T11:47:15   \n",
      "22841  watertyla  2023  7283707799299788034  2023-09-27T23:06:22   \n",
      "24717  watertyla  2023  7283680054540897578  2023-09-27T21:18:48   \n",
      "24839  watertyla  2023  7283357409609796866  2023-09-27T00:26:38   \n",
      "26468  watertyla  2023  7283604579630058785  2023-09-27T16:25:49   \n",
      "26769  watertyla  2023  7283535903971216646  2023-09-27T11:59:15   \n",
      "\n",
      "      video_duration video_likecount video_commentcount video_sharecount  \\\n",
      "2140            15.0         28800.0               48.0             83.0   \n",
      "2533             9.0         90700.0              401.0            567.0   \n",
      "3438            13.0         30200.0              124.0            147.0   \n",
      "3557            17.0         38800.0               56.0            369.0   \n",
      "4457            12.0         22600.0               68.0           1990.0   \n",
      "4573             9.0         35300.0              232.0            457.0   \n",
      "5151            15.0         22500.0              189.0            397.0   \n",
      "8090            10.0         18700.0               53.0            548.0   \n",
      "9308             9.0         26000.0              118.0            861.0   \n",
      "9850            14.0         10400.0              117.0            676.0   \n",
      "12412           10.0         10100.0              145.0             45.0   \n",
      "13403           15.0         13700.0              124.0             14.0   \n",
      "13587            9.0         14200.0               33.0             69.0   \n",
      "14155           10.0         21300.0               76.0            296.0   \n",
      "14209            9.0         10600.0              541.0             27.0   \n",
      "15147            9.0         13000.0               34.0            179.0   \n",
      "15739           15.0         64700.0              167.0             76.0   \n",
      "15896           43.0         10400.0               40.0             66.0   \n",
      "15987           25.0         22800.0              254.0             68.0   \n",
      "17934           12.0         35900.0              202.0           1917.0   \n",
      "18741            5.0         96600.0              823.0           5734.0   \n",
      "19634           15.0         32800.0                0.0            291.0   \n",
      "20385           25.0         30500.0              449.0           3138.0   \n",
      "20416           11.0         95900.0              493.0           3433.0   \n",
      "21276           15.0         43600.0              359.0            957.0   \n",
      "22841           17.0         24700.0               13.0             38.0   \n",
      "24717           15.0         11300.0               55.0             75.0   \n",
      "24839            6.0         17800.0              112.0            312.0   \n",
      "26468            7.0         34000.0               77.0           1063.0   \n",
      "26769           11.0         16200.0              155.0           1050.0   \n",
      "\n",
      "      video_playcount                                  video_description  ...  \\\n",
      "2140         356400.0  🫣🫣💅🏼 Anacrylics Glow in the Dark Acrylic - Gho...  ...   \n",
      "2533        2000000.0                                                NaN  ...   \n",
      "3438         373300.0                                Replying to @David   ...   \n",
      "3557         289000.0  for everyone asking, i asked for long layers &...  ...   \n",
      "4457         239500.0  Making him a sneakerhead like his dad  #babybo...  ...   \n",
      "4573        1300000.0  Die feit dat hulle dit beter as ek doen🤦🏽‍♂️👀 ...  ...   \n",
      "5151         211400.0                                       DC: @Litchi   ...   \n",
      "8090         372200.0  Make me swayyy #euanne #fyp #mcu10000 #fakebod...  ...   \n",
      "9308         149500.0                                                NaN  ...   \n",
      "9850         163800.0    Be nice, im not even trying 🙊🌸#fyp #foryoupage   ...   \n",
      "12412        133700.0  @Don'zer cest comment ? 😂#viral #tiktokgabon🇬🇦...  ...   \n",
      "13403        126700.0                                      #kaylakimkay   ...   \n",
      "13587        190800.0  Final look! BTS coming soon 😋 @elkejean did my...  ...   \n",
      "14155        141300.0                                            UMMMMMM  ...   \n",
      "14209        183000.0  I think i did good🤭 #trend #water #tylawaterch...  ...   \n",
      "15147        248200.0  INSPO 🫶 #dailyoutfits #autumnoutfits2023 #casu...  ...   \n",
      "15739        231600.0   Ass no dey😂😂#foryoupage #Trending #viral @tyla_   ...   \n",
      "15896        207000.0  BWW MUKBANG @Buffalo Wild Wings #wings #wingsa...  ...   \n",
      "15987        349400.0  Embracing this bump 💗 which outfit is your fav...  ...   \n",
      "17934        924700.0  Which outfit was your favourite? ☺️☺️☺️ #SAMA2...  ...   \n",
      "18741        844100.0                                     Jungs* ja moin  ...   \n",
      "19634       1600000.0  Contigo es mejor ♥️ @Christian Dominguez  #par...  ...   \n",
      "20385        305000.0  When your friends support all ya shenanigans 😮...  ...   \n",
      "20416        788700.0  I think i need to try it in a skirt lol😭 #fyp ...  ...   \n",
      "21276        702500.0  This song is amazing @Tyla 🩵#foryou #foryoupag...  ...   \n",
      "22841        235000.0                             ทำโรตีกินเองครั้งแรก 😂  ...   \n",
      "24717        107600.0  New MuuMuu Unlocked @@FEE_143  I can’t wait un...  ...   \n",
      "24839        299000.0  Cobbo for a double?? #selwyncobbo #brisbanebro...  ...   \n",
      "26468       7200000.0  OMBRÉ POWDERBROWS 💗 #wilovebrows #powderbrows ...  ...   \n",
      "26769        780600.0  make me sweat, make me hotter, make me loose m...  ...   \n",
      "\n",
      "                  author_name  \\\n",
      "2140             Anacrylics 🦋   \n",
      "2533                     kyky   \n",
      "3438                   Bailey   \n",
      "3557          Valentina Damas   \n",
      "4457      Britney De Villiers   \n",
      "4573           brutneysingrew   \n",
      "5151            Cassidy Payne   \n",
      "8090              EuanneVapes   \n",
      "9308                       🦦®   \n",
      "9850         hannahmarieroyal   \n",
      "12412         Joella heaven❤️   \n",
      "13403                     NaN   \n",
      "13587      kennedycherrington   \n",
      "14155             Kayla Wayla   \n",
      "14209         Kylie La Gringa   \n",
      "15147   Lisa | Daily Outfits.   \n",
      "15739           Is_just _mina   \n",
      "15896           Madison Elise   \n",
      "15987                     Mai   \n",
      "17934                 Moosh💕_   \n",
      "18741                  🩷 𝐍𝐢𝐧𝐚   \n",
      "19634     Pamela Franco Viera   \n",
      "20385                  BIGGIE   \n",
      "20416                🇹🇬Kelly😝   \n",
      "21276     Rosie Mcclelland 💗🦋   \n",
      "22841                      ✌️   \n",
      "24717  Mrs. Johnnitta Jackson   \n",
      "24839          Brissy Broncos   \n",
      "26468             WILOVEBROWS   \n",
      "26769                 Yaeby_s   \n",
      "\n",
      "                                              author_bio author_followercount  \\\n",
      "2140   🩵 High Quality Nail Brand 💅🏼 🦋 Shop Anacrylics 👇🏼            7200000.0   \n",
      "2533   📩 : kykyy9971.91@gmail.com 👻 : Kysiah971 ❤️💛💚/...              96000.0   \n",
      "3438   More on Instagram @baileydawnra_ 🩷 💌kalim@grai...             552300.0   \n",
      "3557   Jesus | wife | dog mom ♡ mental health advocat...             458700.0   \n",
      "4457   Greyson’s mama🤍 24 - Law Grad👩🏼‍🎓  britney@the...             573300.0   \n",
      "4573                        Sparkle✨ IG📷: brutneysingrew             121400.0   \n",
      "5151   KY girl living in L.A📍 Spicy content 🌶️ offici...            1400000.0   \n",
      "8090   Dm for collaboration 📧  euanne26trinidad@gmail...             184700.0   \n",
      "9308                            450K!? Luv all y’allz 🦦🥀             440900.0   \n",
      "9850                                         No bio yet.             347500.0   \n",
      "12412                                        No bio yet.              16200.0   \n",
      "13403                                                NaN                  NaN   \n",
      "13587  Just having fun 😊 @parraeels @jblaustralia Col...             185600.0   \n",
      "14155  Fashion Nova Ambassador  💌: kurlyyykayy03@gmai...             257399.0   \n",
      "14209  soy de Ohio usa!🇺🇸  Hago videos con mi gallo d...            9600000.0   \n",
      "15147                    📺 DAILY OUTFIT INSPO ALL LINKS👇              33500.0   \n",
      "15739                             My fun page🥰 🇬🇭🇰🇷 4’11             190700.0   \n",
      "15896  Follower of Christ Inquires: Madison@jakerosen...            1200000.0   \n",
      "15987  Curls and Arab Girl Problems 🤷🏻‍♀️ Podcast & a...            2600000.0   \n",
      "17934  Family content ♥️ I♥️sushi  Insta@alwah.de.1st...             520100.0   \n",
      "18741                      📍45 | DIY   𝕃𝕠𝕧𝕖 𝕚𝕤 𝕃𝕠𝕧𝕖 🏳️‍🌈              10200.0   \n",
      "19634                                         No bio yet            1500000.0   \n",
      "20385  Chapter 24 🥀🇩🇴 Open your eyes or someone will ...             272700.0   \n",
      "20416                           19 Follow @bhadie.kellyy            3400000.0   \n",
      "21276  17! Acc Managed by Mom! Singer | Actress conta...            2500000.0   \n",
      "22841                                              empty             209600.0   \n",
      "24717  📸Entertainment🎬 ⬆️3Mil⬆️ 📧bookmrsjjackson25@ya...            2400000.0   \n",
      "24839                            Bronxnation  ♥️ 🐴 5-3 🏉              52800.0   \n",
      "26468  CERTIFIED PMU ARTIST 💗  📍Browsalon in Ams • PM...              11700.0   \n",
      "26769  LIFE STYLE AND BEAUTY CREATOR 🩷 use code: yaeb...             107900.0   \n",
      "\n",
      "      author_likecounts  video_stickers  video_is_ad video_locationcreated  \\\n",
      "2140        276500000.0             NaN        False                    US   \n",
      "2533          3100000.0             NaN        False                    FR   \n",
      "3438         23800000.0             NaN        False                    CA   \n",
      "3557         62700000.0             NaN        False                    US   \n",
      "4457         14400000.0             NaN        False                    GB   \n",
      "4573           518000.0             NaN        False                    ZA   \n",
      "5151         20300000.0             NaN        False                    US   \n",
      "8090          2600000.0             NaN        False                    PH   \n",
      "9308         25900000.0             NaN        False                    CA   \n",
      "9850          2600000.0             NaN        False                    US   \n",
      "12412          129300.0             NaN        False                    GA   \n",
      "13403               NaN             NaN        False                    ZA   \n",
      "13587         6800000.0             NaN        False                    AU   \n",
      "14155        11300000.0             NaN        False                    US   \n",
      "14209       213600000.0             NaN        False                    US   \n",
      "15147          295500.0             NaN        False                    DE   \n",
      "15739         7500000.0             NaN        False                    KR   \n",
      "15896        80600000.0             NaN        False                    US   \n",
      "15987       116700000.0             NaN        False                    US   \n",
      "17934         7300000.0             NaN        False                    ZA   \n",
      "18741         2100000.0             NaN        False                    DE   \n",
      "19634        16600000.0             NaN        False                    PE   \n",
      "20385         2800000.0             NaN        False                    US   \n",
      "20416        56900000.0             NaN        False                    US   \n",
      "21276       127100000.0             NaN        False                    GB   \n",
      "22841         2000000.0             NaN        False                    KR   \n",
      "24717       168900000.0             NaN        False                    US   \n",
      "24839         2800000.0             NaN        False                    AU   \n",
      "26468           56300.0             NaN        False                    NL   \n",
      "26769         2700000.0             NaN        False                    CA   \n",
      "\n",
      "       video_timestamp_new video_playcount_int video_timeNew  \n",
      "2140   2023-09-27 11:22:38            356400.0    2023-09-27  \n",
      "2533   2023-09-27 12:53:13           2000000.0    2023-09-27  \n",
      "3438   2023-09-27 20:19:28            373300.0    2023-09-27  \n",
      "3557   2023-09-27 21:28:23            289000.0    2023-09-27  \n",
      "4457   2023-09-27 10:07:44            239500.0    2023-09-27  \n",
      "4573   2023-09-27 17:34:32           1300000.0    2023-09-27  \n",
      "5151   2023-09-27 20:26:28            211400.0    2023-09-27  \n",
      "8090   2023-09-27 02:25:16            372200.0    2023-09-27  \n",
      "9308   2023-09-27 21:29:51            149500.0    2023-09-27  \n",
      "9850   2023-09-27 20:25:20            163800.0    2023-09-27  \n",
      "12412  2023-09-27 15:29:39            133700.0    2023-09-27  \n",
      "13403  2023-09-27 10:45:39            126700.0    2023-09-27  \n",
      "13587  2023-09-27 02:05:37            190800.0    2023-09-27  \n",
      "14155  2023-09-27 22:12:34            141300.0    2023-09-27  \n",
      "14209  2023-09-27 12:14:55            183000.0    2023-09-27  \n",
      "15147  2023-09-27 12:58:05            248200.0    2023-09-27  \n",
      "15739  2023-09-27 09:42:59            231600.0    2023-09-27  \n",
      "15896  2023-09-27 15:00:46            207000.0    2023-09-27  \n",
      "15987  2023-09-27 13:56:17            349400.0    2023-09-27  \n",
      "17934  2023-09-27 01:06:06            924700.0    2023-09-27  \n",
      "18741  2023-09-27 03:43:07            844100.0    2023-09-27  \n",
      "19634  2023-09-27 11:33:13           1600000.0    2023-09-27  \n",
      "20385  2023-09-27 19:07:40            305000.0    2023-09-27  \n",
      "20416  2023-09-27 15:56:13            788700.0    2023-09-27  \n",
      "21276  2023-09-27 11:47:15            702500.0    2023-09-27  \n",
      "22841  2023-09-27 23:06:22            235000.0    2023-09-27  \n",
      "24717  2023-09-27 21:18:48            107600.0    2023-09-27  \n",
      "24839  2023-09-27 00:26:38            299000.0    2023-09-27  \n",
      "26468  2023-09-27 16:25:49           7200000.0    2023-09-27  \n",
      "26769  2023-09-27 11:59:15            780600.0    2023-09-27  \n",
      "\n",
      "[30 rows x 22 columns]\n",
      "[7200000.0, 96000.0, 552300.0, 458700.0, 573300.0, 121400.0, 1400000.0, 184700.0, 440900.0, 347500.0, 16200.0, nan, 185600.0, 257399.0, 9600000.0, 33500.0, 190700.0, 1200000.0, 2600000.0, 520100.0, 10200.0, 1500000.0, 272700.0, 3400000.0, 2500000.0, 209600.0, 2400000.0, 52800.0, 11700.0, 107900.0]\n",
      "Counter({'macro': 14, 'mega': 9, 'micro': 6, 'NaN': 1})\n"
     ]
    }
   ],
   "source": [
    "waterMiddleDate = datetime.strptime('2023-09-27', '%Y-%m-%d')\n",
    "waterMidSubset = waterDF[waterDF['video_timeNew']==waterMiddleDate]\n",
    "print(waterMidSubset)\n",
    "# 30 videos\n",
    "\n",
    "waterInfluencerMID = []\n",
    "waterFollowerCountMID = []\n",
    "\n",
    "for followercount in waterMidSubset['author_followercount']:\n",
    "    waterFollowerCountMID.append(followercount)\n",
    "    waterInfluencerMID.append(influencer_type(followercount))\n",
    "\n",
    "print(waterFollowerCountMID)\n",
    "counterWaterrMiddle = Counter(waterInfluencerMID)\n",
    "print(counterWaterrMiddle)"
   ]
  },
  {
   "cell_type": "code",
   "execution_count": 102,
   "metadata": {},
   "outputs": [],
   "source": [
    "AllLists2023 = [counterDropMiddle, counterDropPeak,\n",
    "                counterItgirlMiddle, counterItgirlPeak, \n",
    "                counterMwahMiddle, counterMwahPeak,\n",
    "                counterThisyearMiddle, counterThisyearPeak, \n",
    "                counterWaterrMiddle, counterWaterPeak]\n",
    "\n",
    "CounterList2023 = []\n",
    "for list in AllLists2023:\n",
    "    CounterList2023.append(convertToList(list))\n",
    "\n",
    "dropListNew = CounterList2023[0:2]\n",
    "itgirlList = CounterList2023[2:4]\n",
    "mwahListNew = CounterList2023[4: 6]\n",
    "thisyearList = CounterList2023[6: 8]\n",
    "waterList = CounterList2023[8: 10]"
   ]
  },
  {
   "cell_type": "code",
   "execution_count": 103,
   "metadata": {},
   "outputs": [
    {
     "data": {
      "image/png": "[encoded data removed]",
      "text/plain": [
       "<Figure size 640x480 with 1 Axes>"
      ]
     },
     "metadata": {},
     "output_type": "display_data"
    }
   ],
   "source": [
    "labels = ['midpoint', 'peak']\n",
    "\n",
    "none = []\n",
    "nano = []\n",
    "micro = []\n",
    "macro = []\n",
    "mega = []\n",
    "nan = []\n",
    "\n",
    "\n",
    "addedList = []\n",
    "\n",
    "for list1, list2, list3, list4, list5 in zip(dropListNew, itgirlList, mwahListNew, thisyearList, waterList):\n",
    "    result = []\n",
    "    for x, y, z, w, k in zip(list1, list2, list3, list4, list5):\n",
    "        result.append(x + y + z + w + k)\n",
    "    addedList.append(result)\n",
    "\n",
    "for inner_list1 in addedList:\n",
    "    none.append(inner_list1[0])\n",
    "    nano.append(inner_list1[1])\n",
    "    micro.append(inner_list1[2])\n",
    "    macro.append(inner_list1[3])\n",
    "    mega.append(inner_list1[4])\n",
    "    nan.append(inner_list1[5])\n",
    "\n",
    "\n",
    "#width\n",
    "bar_width = 0.1\n",
    "r1 = range(len(labels))\n",
    "r2 = [x + bar_width for x in r1]\n",
    "r3 = [x + bar_width for x in r2]\n",
    "r4 = [x + bar_width for x in r3]\n",
    "r5 = [x + bar_width for x in r4]\n",
    "r6 = [x + bar_width for x in r5]\n",
    "\n",
    "color = ['mistyrose', 'lightpink', 'darkseagreen', 'mediumaquamarine', 'lightskyblue', 'lightsteelblue']\n",
    "\n",
    "#plot\n",
    "plt.bar(r1, none, color=color[0], width=bar_width, label='none')\n",
    "plt.bar(r2, nano, color=color[1], width=bar_width, label='nano')\n",
    "plt.bar(r3, micro, color=color[2], width=bar_width, label='micro')\n",
    "plt.bar(r4, macro, color=color[3], width=bar_width, label='macro')\n",
    "plt.bar(r5, mega, color=color[4], width=bar_width, label='mega')\n",
    "plt.bar(r6, nan, color=color[5], width=bar_width, label='nan')\n",
    "\n",
    "#labels\n",
    "plt.xlabel('Pivotal Time Points')\n",
    "plt.ylabel('Counts of Videos Posted')\n",
    "plt.title('Year 2023 Trend (WOP,IT GIRL (Sped Up), My Marmalade, This Year Blessing, Water)')\n",
    "plt.xticks([r + bar_width/2 for r in range(len(labels))], labels)\n",
    "plt.yticks()\n",
    "\n",
    "#legend\n",
    "plt.legend(bbox_to_anchor=(1.02, 1), loc='upper left', borderaxespad=0)\n",
    "plt.ylim(0, 80)\n",
    "\n",
    "#plot\n",
    "plt.show()"
   ]
  },
  {
   "cell_type": "code",
   "execution_count": 104,
   "metadata": {},
   "outputs": [
    {
     "name": "stdout",
     "output_type": "stream",
     "text": [
      "39\n",
      "24\n",
      "15\n",
      "190\n"
     ]
    }
   ],
   "source": [
    "print(macro[0] + mega[0])\n",
    "print(macro[0]) #24\n",
    "print(mega[0]) #15\n",
    "#total 39\n",
    "\n",
    "print(none[1] + nano[1]+ micro[1] + macro[1] + mega[1] + nan[1])\n",
    "#total 190"
   ]
  },
  {
   "cell_type": "markdown",
   "metadata": {},
   "source": [
    "### Analysis for other songs that don't have the original video labeled\n",
    "\n",
    "year 2024"
   ]
  },
  {
   "cell_type": "code",
   "execution_count": 105,
   "metadata": {},
   "outputs": [
    {
     "name": "stderr",
     "output_type": "stream",
     "text": [
      "/var/folders/zh/lh50ntf51kvdjr8cmpd9y7840000gn/T/ipykernel_38992/2230187929.py:6: SettingWithCopyWarning: \n",
      "A value is trying to be set on a copy of a slice from a DataFrame.\n",
      "Try using .loc[row_indexer,col_indexer] = value instead\n",
      "\n",
      "See the caveats in the documentation: https://pandas.pydata.org/pandas-docs/stable/user_guide/indexing.html#returning-a-view-versus-a-copy\n",
      "  subset_df2024['video_playcount_int'] = pd.to_numeric(subset_df2024['video_playcount'], errors='coerce')\n",
      "/var/folders/zh/lh50ntf51kvdjr8cmpd9y7840000gn/T/ipykernel_38992/2230187929.py:22: SettingWithCopyWarning: \n",
      "A value is trying to be set on a copy of a slice from a DataFrame.\n",
      "Try using .loc[row_indexer,col_indexer] = value instead\n",
      "\n",
      "See the caveats in the documentation: https://pandas.pydata.org/pandas-docs/stable/user_guide/indexing.html#returning-a-view-versus-a-copy\n",
      "  df2024['video_timeNew'] = editedDateFormat\n"
     ]
    }
   ],
   "source": [
    "videos2024 = ['flomilli.csv', 'glo.csv', 'tyla.csv', 'wannabe.csv']\n",
    "df2024 = pd.DataFrame()\n",
    "\n",
    "\n",
    "subset_df2024 = df[(df['sound'] == 'flomilli') | (df['sound'] == 'glo')  | (df['sound'] == 'tyla') | (df['sound'] == 'wannabe')]\n",
    "subset_df2024['video_playcount_int'] = pd.to_numeric(subset_df2024['video_playcount'], errors='coerce')\n",
    "\n",
    "df2024 = subset_df2024[(pd.notna(subset_df2024['video_playcount_int'])) & (subset_df2024['video_playcount_int'] > 100000)]\n",
    "\n",
    "\n",
    "#date format so that only the year, month, and day is shown\n",
    "editedDateFormat = []\n",
    "\n",
    "# extract and add a new column\n",
    "for row in df2024['video_timestamp_new']:\n",
    "    rowdate = str(row)[0:10]\n",
    "    rowdatefinal = pd.to_datetime(rowdate, errors='coerce')\n",
    "    editedDateFormat.append(rowdatefinal)\n",
    "    \n",
    "\n",
    "df2024['video_timeNew'] = editedDateFormat"
   ]
  },
  {
   "cell_type": "code",
   "execution_count": 106,
   "metadata": {},
   "outputs": [],
   "source": [
    "floDF = df2024[df2024['sound']=='flomilli']\n",
    "gloDF = df2024[df2024['sound']=='glo']\n",
    "tylaDF = df2024[df2024['sound']=='tyla']\n",
    "wannabeDF = df2024[df2024['sound']=='wannabe']"
   ]
  },
  {
   "cell_type": "code",
   "execution_count": 107,
   "metadata": {},
   "outputs": [
    {
     "name": "stdout",
     "output_type": "stream",
     "text": [
      "2024-01-13\n",
      "44\n",
      "[nan, nan, nan, nan, nan, nan, nan, nan, nan, nan, nan, nan, nan, nan, nan, nan, nan, nan, nan, nan, nan, 1600000.0, nan, nan, 4000000.0, nan, 56300.0, nan, nan, nan, 894600.0, nan, nan, nan, nan, nan, 1800000.0, nan, nan, nan, nan, nan, nan, nan]\n",
      "Counter({'NaN': 39, 'mega': 3, 'micro': 1, 'macro': 1})\n"
     ]
    }
   ],
   "source": [
    "flomaxdate = max(Counter(floDF['video_timeNew']), key = Counter(floDF['video_timeNew']).get)\n",
    "stringdateFlo = str(flomaxdate)[0:10]\n",
    "flomaxdateConverted = datetime.strptime(stringdateFlo, '%Y-%m-%d')\n",
    "floFinalDate = flomaxdateConverted.date()\n",
    "\n",
    "flocounter = (Counter(floDF['video_timeNew']))\n",
    "flomaxvideoValue = flocounter[flomaxdate]\n",
    "print(floFinalDate)\n",
    "print(flomaxvideoValue)\n",
    "\n",
    "\n",
    "floPeak = datetime.strptime('2024-01-13', '%Y-%m-%d')\n",
    "floPeakSubset = floDF[floDF['video_timeNew'] == floPeak]\n",
    "#44 videos posted on the peak\n",
    "\n",
    "floInfluencerPEAK = []\n",
    "floFollowerCountPEAK = []\n",
    "\n",
    "for followercount in floPeakSubset['author_followercount']:\n",
    "    floFollowerCountPEAK.append(followercount)\n",
    "    floInfluencerPEAK.append(influencer_type(followercount))\n",
    "\n",
    "print(floFollowerCountPEAK)\n",
    "counterFloPeak = Counter(floInfluencerPEAK)\n",
    "print(counterFloPeak)"
   ]
  },
  {
   "cell_type": "code",
   "execution_count": 108,
   "metadata": {},
   "outputs": [
    {
     "name": "stdout",
     "output_type": "stream",
     "text": [
      "2024-04-20\n",
      "8\n",
      "[670600.0, 4000000.0, 5830.0, 24500.0, 535400.0, 5158.0, nan, 4278.0]\n",
      "Counter({'nano': 3, 'macro': 2, 'mega': 1, 'micro': 1, 'NaN': 1})\n"
     ]
    }
   ],
   "source": [
    "glomaxdate = max(Counter(gloDF['video_timeNew']), key = Counter(gloDF['video_timeNew']).get)\n",
    "stringdateGlo = str(glomaxdate)[0:10]\n",
    "glomaxdateConverted = datetime.strptime(stringdateGlo, '%Y-%m-%d')\n",
    "gloFinalDate = glomaxdateConverted.date()\n",
    "\n",
    "glocounter = (Counter(gloDF['video_timeNew']))\n",
    "glomaxvideoValue = glocounter[glomaxdate]\n",
    "print(gloFinalDate)\n",
    "print(glomaxvideoValue)\n",
    "\n",
    "\n",
    "gloPeak = datetime.strptime('2024-04-20', '%Y-%m-%d')\n",
    "gloPeakSubset = gloDF[gloDF['video_timeNew'] == gloPeak]\n",
    "#8 videos posted on the peak\n",
    "\n",
    "gloInfluencerPEAK = []\n",
    "gloFollowerCountPEAK = []\n",
    "\n",
    "for followercount in gloPeakSubset['author_followercount']:\n",
    "    gloFollowerCountPEAK.append(followercount)\n",
    "    gloInfluencerPEAK.append(influencer_type(followercount))\n",
    "\n",
    "print(gloFollowerCountPEAK)\n",
    "counterGloPeak = Counter(gloInfluencerPEAK)\n",
    "print(counterGloPeak)"
   ]
  },
  {
   "cell_type": "code",
   "execution_count": 109,
   "metadata": {},
   "outputs": [
    {
     "name": "stdout",
     "output_type": "stream",
     "text": [
      "2024-04-19\n",
      "35\n",
      "[nan, 10400000.0, nan, 869900.0, nan, nan, 14000000.0, nan, nan, nan, nan, nan, nan, nan, 451400.0, nan, nan, nan, nan, nan, nan, nan, nan, nan, nan, 33600000.0, nan, nan, 299000.0, 8300000.0, nan, nan, nan, 697600.0, nan]\n",
      "Counter({'NaN': 27, 'mega': 4, 'macro': 4})\n"
     ]
    }
   ],
   "source": [
    "tylamaxdate = max(Counter(tylaDF['video_timeNew']), key = Counter(tylaDF['video_timeNew']).get)\n",
    "stringdateTyla = str(tylamaxdate)[0:10]\n",
    "tylamaxdateConverted = datetime.strptime(stringdateTyla, '%Y-%m-%d')\n",
    "tylaFinalDate = tylamaxdateConverted.date()\n",
    "\n",
    "tylacounter = (Counter(tylaDF['video_timeNew']))\n",
    "tylamaxvideoValue = tylacounter[tylamaxdate]\n",
    "print(tylaFinalDate)\n",
    "print(tylamaxvideoValue)\n",
    "\n",
    "\n",
    "tylaPeak = datetime.strptime('2024-04-19', '%Y-%m-%d')\n",
    "tylaPeakSubset = tylaDF[tylaDF['video_timeNew'] == tylaPeak]\n",
    "#35 videos posted on the peak\n",
    "\n",
    "tylaInfluencerPEAK = []\n",
    "tylaFollowerCountPEAK = []\n",
    "\n",
    "for followercount in tylaPeakSubset['author_followercount']:\n",
    "    tylaFollowerCountPEAK.append(followercount)\n",
    "    tylaInfluencerPEAK.append(influencer_type(followercount))\n",
    "\n",
    "print(tylaFollowerCountPEAK)\n",
    "counterTylaPeak = Counter(tylaInfluencerPEAK)\n",
    "print(counterTylaPeak)"
   ]
  },
  {
   "cell_type": "code",
   "execution_count": 110,
   "metadata": {},
   "outputs": [
    {
     "name": "stdout",
     "output_type": "stream",
     "text": [
      "2024-04-09\n",
      "24\n",
      "[10600.0, 197100.0, 122200.0, nan, 169500.0, 2128.0, nan, nan, 2444.0, 42200.0, nan, nan, nan, 61300.0, nan, 3800000.0, 47200.0, 33200.0, nan, nan, 788100.0, 67000.0, 30500.0, 556300.0]\n",
      "Counter({'NaN': 9, 'micro': 7, 'macro': 5, 'nano': 2, 'mega': 1})\n"
     ]
    }
   ],
   "source": [
    "wannabemaxdate = max(Counter(wannabeDF['video_timeNew']), key = Counter(wannabeDF['video_timeNew']).get)\n",
    "stringdateWannabe = str(wannabemaxdate)[0:10]\n",
    "wannabemaxdateConverted = datetime.strptime(stringdateWannabe, '%Y-%m-%d')\n",
    "wannabeFinalDate = wannabemaxdateConverted.date()\n",
    "\n",
    "wannabecounter = (Counter(wannabeDF['video_timeNew']))\n",
    "wannabemaxvideoValue = wannabecounter[wannabemaxdate]\n",
    "print(wannabeFinalDate)\n",
    "print(wannabemaxvideoValue)\n",
    "\n",
    "\n",
    "wannabePeak = datetime.strptime('2024-04-09', '%Y-%m-%d')\n",
    "wannabePeakSubset = wannabeDF[wannabeDF['video_timeNew'] == wannabePeak]\n",
    "#24 videos posted on the peak\n",
    "\n",
    "wannabeInfluencerPEAK = []\n",
    "wannabeFollowerCountPEAK = []\n",
    "\n",
    "for followercount in wannabePeakSubset['author_followercount']:\n",
    "    wannabeFollowerCountPEAK.append(followercount)\n",
    "    wannabeInfluencerPEAK.append(influencer_type(followercount))\n",
    "\n",
    "print(wannabeFollowerCountPEAK)\n",
    "counterWannabePeak = Counter(wannabeInfluencerPEAK)\n",
    "print(counterWannabePeak)"
   ]
  },
  {
   "cell_type": "code",
   "execution_count": 111,
   "metadata": {},
   "outputs": [
    {
     "name": "stdout",
     "output_type": "stream",
     "text": [
      "2023-12-22\n",
      "2024-04-01\n",
      "2023-09-30\n",
      "2024-04-01\n"
     ]
    }
   ],
   "source": [
    "floDay1 = datetime.strptime('2023-12-01', '%Y-%m-%d')\n",
    "gloDay1 = datetime.strptime('2024-03-13', '%Y-%m-%d')\n",
    "tylaDay1 = datetime.strptime('2023-03-12', '%Y-%m-%d')\n",
    "wannabeDay1 = datetime.strptime('2024-03-25', '%Y-%m-%d')\n",
    "\n",
    "flo_middate = floDay1.date() + (floFinalDate - floDay1.date()) / 2\n",
    "\n",
    "glo_middate = gloDay1.date() + (gloFinalDate - gloDay1.date()) / 2\n",
    "\n",
    "tyla_middate = tylaDay1.date() + (tylaFinalDate - tylaDay1.date()) / 2\n",
    "\n",
    "wannabe_middate = wannabeDay1.date() + (wannabeFinalDate - wannabeDay1.date()) / 2\n",
    "\n",
    "\n",
    "print(flo_middate)\n",
    "print(glo_middate)\n",
    "print(tyla_middate)\n",
    "print(wannabe_middate)\n"
   ]
  },
  {
   "cell_type": "code",
   "execution_count": 112,
   "metadata": {},
   "outputs": [
    {
     "name": "stdout",
     "output_type": "stream",
     "text": [
      "          sound  year             video_id      video_timestamp  \\\n",
      "8175   flomilli  2024  7315616568044457262  2023-12-22T21:48:51   \n",
      "9423   flomilli  2024  7315317055245339910  2023-12-22T02:26:22   \n",
      "13967  flomilli  2024  7315530420525780267  2023-12-22T16:14:25   \n",
      "\n",
      "      video_duration video_likecount video_commentcount video_sharecount  \\\n",
      "8175            62.0         75500.0              411.0            581.0   \n",
      "9423            13.0         77800.0             1116.0           1045.0   \n",
      "13967           15.0         71300.0              436.0            359.0   \n",
      "\n",
      "      video_playcount                                  video_description  ...  \\\n",
      "8175         262800.0  the way that he had no explanation does it for...  ...   \n",
      "9423         320200.0  #gojosatoru #blowthisup #jjk #fyp #gojo #jjked...  ...   \n",
      "13967        396100.0  He never wanna lose me 🤭🤭 #kobeandlex #goals #...  ...   \n",
      "\n",
      "      author_name author_bio author_followercount author_likecounts  \\\n",
      "8175          NaN        NaN                  NaN               NaN   \n",
      "9423          NaN        NaN                  NaN               NaN   \n",
      "13967         NaN        NaN                  NaN               NaN   \n",
      "\n",
      "       video_stickers  video_is_ad video_locationcreated  video_timestamp_new  \\\n",
      "8175              NaN        False                    US  2023-12-22 21:48:51   \n",
      "9423              NaN        False                    PH  2023-12-22 02:26:22   \n",
      "13967             NaN        False                    US  2023-12-22 16:14:25   \n",
      "\n",
      "      video_playcount_int video_timeNew  \n",
      "8175             262800.0    2023-12-22  \n",
      "9423             320200.0    2023-12-22  \n",
      "13967            396100.0    2023-12-22  \n",
      "\n",
      "[3 rows x 22 columns]\n",
      "[nan, nan, nan]\n",
      "Counter({'NaN': 3})\n"
     ]
    }
   ],
   "source": [
    "florMiddleDate = datetime.strptime('2023-12-22', '%Y-%m-%d')\n",
    "floMidSubset = floDF[floDF['video_timeNew']==florMiddleDate]\n",
    "print(floMidSubset)\n",
    "#3 videos\n",
    "\n",
    "floInfluencerMID = []\n",
    "floFollowerCountMID = []\n",
    "\n",
    "for followercount in floMidSubset['author_followercount']:\n",
    "    floFollowerCountMID.append(followercount)\n",
    "    floInfluencerMID.append(influencer_type(followercount))\n",
    "\n",
    "print(floFollowerCountMID)\n",
    "counterFloMiddle = Counter(floInfluencerMID)\n",
    "print(counterFloMiddle)"
   ]
  },
  {
   "cell_type": "code",
   "execution_count": 113,
   "metadata": {},
   "outputs": [
    {
     "name": "stdout",
     "output_type": "stream",
     "text": [
      "      sound  year             video_id      video_timestamp video_duration  \\\n",
      "26687   glo  2024  7353032736682134827  2024-04-01T18:42:37           12.0   \n",
      "\n",
      "      video_likecount video_commentcount video_sharecount video_playcount  \\\n",
      "26687        500000.0             2115.0           4239.0       4100000.0   \n",
      "\n",
      "                                       video_description  ...  author_name  \\\n",
      "26687  Iheart music awards here we come!! How many yo...  ...  Bunnie Xo 🪄   \n",
      "\n",
      "                                              author_bio author_followercount  \\\n",
      "26687  🧚‍♂️ Fairy Godmother 🪄 Trailerpark Barbara Wal...            5500000.0   \n",
      "\n",
      "      author_likecounts  video_stickers  video_is_ad video_locationcreated  \\\n",
      "26687       172000000.0             NaN        False                    US   \n",
      "\n",
      "       video_timestamp_new video_playcount_int video_timeNew  \n",
      "26687  2024-04-01 18:42:37           4100000.0    2024-04-01  \n",
      "\n",
      "[1 rows x 22 columns]\n",
      "[5500000.0]\n",
      "Counter({'mega': 1})\n"
     ]
    }
   ],
   "source": [
    "gloMiddleDate = datetime.strptime('2024-04-01', '%Y-%m-%d')\n",
    "gloMidSubset = gloDF[gloDF['video_timeNew']==gloMiddleDate]\n",
    "print(gloMidSubset)\n",
    "#only one video\n",
    "\n",
    "gloInfluencerMID = []\n",
    "gloFollowerCountMID = []\n",
    "\n",
    "for followercount in gloMidSubset['author_followercount']:\n",
    "    gloFollowerCountMID.append(followercount)\n",
    "    gloInfluencerMID.append(influencer_type(followercount))\n",
    "\n",
    "print(gloFollowerCountMID)\n",
    "counterGloMiddle = Counter(gloInfluencerMID)\n",
    "print(counterGloMiddle)\n",
    "#mega"
   ]
  },
  {
   "cell_type": "code",
   "execution_count": 114,
   "metadata": {},
   "outputs": [
    {
     "name": "stdout",
     "output_type": "stream",
     "text": [
      "      sound  year             video_id      video_timestamp video_duration  \\\n",
      "23073  tyla  2024  7280347146669296926  2023-09-18T21:45:26           25.0   \n",
      "\n",
      "      video_likecount video_commentcount video_sharecount video_playcount  \\\n",
      "23073         16200.0               44.0            356.0        196500.0   \n",
      "\n",
      "                                       video_description  ... author_name  \\\n",
      "23073  💌: Another day another glute workout! Lmk if y...  ...         NaN   \n",
      "\n",
      "      author_bio author_followercount author_likecounts  video_stickers  \\\n",
      "23073        NaN                  NaN               NaN             NaN   \n",
      "\n",
      "       video_is_ad video_locationcreated  video_timestamp_new  \\\n",
      "23073        False                    US  2023-09-18 21:45:26   \n",
      "\n",
      "      video_playcount_int video_timeNew  \n",
      "23073            196500.0    2023-09-18  \n",
      "\n",
      "[1 rows x 22 columns]\n",
      "[nan]\n",
      "Counter({'NaN': 1})\n"
     ]
    }
   ],
   "source": [
    "tylaMiddleDate = datetime.strptime('2023-09-18', '%Y-%m-%d')\n",
    "tylaMidSubset = tylaDF[tylaDF['video_timeNew']==tylaMiddleDate]\n",
    "print(tylaMidSubset)\n",
    "#only one video\n",
    "\n",
    "tylaInfluencerMID = []\n",
    "tylaFollowerCountMID = []\n",
    "\n",
    "for followercount in tylaMidSubset['author_followercount']:\n",
    "    tylaFollowerCountMID.append(followercount)\n",
    "    tylaInfluencerMID.append(influencer_type(followercount))\n",
    "\n",
    "print(tylaFollowerCountMID)\n",
    "counterTylaMiddle = Counter(tylaInfluencerMID)\n",
    "print(counterTylaMiddle)\n",
    "#NaN"
   ]
  },
  {
   "cell_type": "code",
   "execution_count": 115,
   "metadata": {},
   "outputs": [
    {
     "name": "stdout",
     "output_type": "stream",
     "text": [
      "         sound  year             video_id      video_timestamp video_duration  \\\n",
      "11296  wannabe  2024  7359421881474207018  2024-04-18T23:55:50          190.0   \n",
      "12903  wannabe  2024  7359384673241369902  2024-04-18T21:31:19           15.0   \n",
      "\n",
      "      video_likecount video_commentcount video_sharecount video_playcount  \\\n",
      "11296          3943.0               38.0             73.0        209900.0   \n",
      "12903          9780.0              107.0           1032.0        104000.0   \n",
      "\n",
      "                                       video_description  ...   author_name  \\\n",
      "11296  #megandglochallenge #gloria #glorilla #meganth...  ...           NaN   \n",
      "12903                      Replying to @The woodoo bet 👀  ...  Juuicyjordan   \n",
      "\n",
      "      author_bio author_followercount author_likecounts  video_stickers  \\\n",
      "11296        NaN                  NaN               NaN             NaN   \n",
      "12903          💜            1000000.0        23300000.0             NaN   \n",
      "\n",
      "       video_is_ad video_locationcreated  video_timestamp_new  \\\n",
      "11296        False                    US  2024-04-18 23:55:50   \n",
      "12903        False                    US  2024-04-18 21:31:19   \n",
      "\n",
      "      video_playcount_int video_timeNew  \n",
      "11296            209900.0    2024-04-18  \n",
      "12903            104000.0    2024-04-18  \n",
      "\n",
      "[2 rows x 22 columns]\n",
      "[nan, 1000000.0]\n",
      "Counter({'NaN': 1, 'mega': 1})\n"
     ]
    }
   ],
   "source": [
    "wannabeMiddleDate = datetime.strptime('2024-04-18', '%Y-%m-%d')\n",
    "wannabeMidSubset = wannabeDF[wannabeDF['video_timeNew']==wannabeMiddleDate]\n",
    "print(wannabeMidSubset)\n",
    "# 2 videos\n",
    "\n",
    "wannabeInfluencerMID = []\n",
    "wannabeFollowerCountMID = []\n",
    "\n",
    "for followercount in wannabeMidSubset['author_followercount']:\n",
    "    wannabeFollowerCountMID.append(followercount)\n",
    "    wannabeInfluencerMID.append(influencer_type(followercount))\n",
    "\n",
    "print(wannabeFollowerCountMID)\n",
    "counterWannabeMiddle = Counter(wannabeInfluencerMID)\n",
    "print(counterWannabeMiddle)"
   ]
  },
  {
   "cell_type": "code",
   "execution_count": 116,
   "metadata": {},
   "outputs": [],
   "source": [
    "AllLists2024 = [counterFloMiddle, counterFloPeak,\n",
    "                counterGloMiddle, counterGloPeak, \n",
    "                counterTylaMiddle, counterTylaPeak,\n",
    "                counterWannabeMiddle, counterWannabePeak]\n",
    "\n",
    "CounterList2024 = []\n",
    "for list in AllLists2024:\n",
    "    CounterList2024.append(convertToList(list))\n",
    "\n",
    "floList = CounterList2024[0:2]\n",
    "gloList = CounterList2024[2:4]\n",
    "tylaList = CounterList2024[4: 6]\n",
    "wannabeList = CounterList2024[6: 8]"
   ]
  },
  {
   "cell_type": "code",
   "execution_count": 117,
   "metadata": {},
   "outputs": [
    {
     "data": {
      "image/png": "[encoded data removed]",
      "text/plain": [
       "<Figure size 640x480 with 1 Axes>"
      ]
     },
     "metadata": {},
     "output_type": "display_data"
    }
   ],
   "source": [
    "labels = ['mid point', 'peak']\n",
    "\n",
    "none = []\n",
    "nano = []\n",
    "micro = []\n",
    "macro = []\n",
    "mega = []\n",
    "nan = []\n",
    "\n",
    "result = [[x + y + z + w for x, y, z, w in zip(sublist1, sublist2, sublist3, sublist4)] \n",
    "          for sublist1, sublist2, sublist3, sublist4 in zip(floList, gloList, tylaList, wannabeList)]\n",
    "\n",
    "addedList = []\n",
    "\n",
    "for list1, list2, list3, list4 in zip(floList, gloList, tylaList, wannabeList):\n",
    "    result = []\n",
    "    for x, y, z, w in zip(list1, list2, list3, list4):\n",
    "        result.append(x + y + z + w)\n",
    "    addedList.append(result)\n",
    "\n",
    "\n",
    "for inner_list1 in addedList:\n",
    "    none.append(inner_list1[0])\n",
    "    nano.append(inner_list1[1])\n",
    "    micro.append(inner_list1[2])\n",
    "    macro.append(inner_list1[3])\n",
    "    mega.append(inner_list1[4])\n",
    "    nan.append(inner_list1[5])\n",
    "\n",
    "\n",
    "#width\n",
    "bar_width = 0.1\n",
    "r1 = range(len(labels))\n",
    "r2 = [x + bar_width for x in r1]\n",
    "r3 = [x + bar_width for x in r2]\n",
    "r4 = [x + bar_width for x in r3]\n",
    "r5 = [x + bar_width for x in r4]\n",
    "r6 = [x + bar_width for x in r5]\n",
    "\n",
    "color = ['mistyrose', 'lightpink', 'darkseagreen', 'mediumaquamarine', 'lightskyblue', 'lightsteelblue']\n",
    "\n",
    "#plot\n",
    "plt.bar(r1, none, color=color[0], width=bar_width, label='none')\n",
    "plt.bar(r2, nano, color=color[1], width=bar_width, label='nano')\n",
    "plt.bar(r3, micro, color=color[2], width=bar_width, label='micro')\n",
    "plt.bar(r4, macro, color=color[3], width=bar_width, label='macro')\n",
    "plt.bar(r5, mega, color=color[4], width=bar_width, label='mega')\n",
    "plt.bar(r6, nan, color=color[5], width=bar_width, label='nan')\n",
    "\n",
    "#label\n",
    "plt.xlabel('Points of Trend')\n",
    "plt.ylabel('Values')\n",
    "plt.title('Year 2024 Trend (Never Lose Me, Yeah, Glo!, Jump, Wannabe)')\n",
    "plt.xticks([r + bar_width/2 for r in range(len(labels))], labels)\n",
    "plt.yticks()\n",
    "\n",
    "#legend\n",
    "plt.legend(bbox_to_anchor=(1.02, 1), loc='upper left', borderaxespad=0)\n",
    "\n",
    "\n",
    "#plot\n",
    "plt.show()"
   ]
  },
  {
   "cell_type": "code",
   "execution_count": 118,
   "metadata": {},
   "outputs": [
    {
     "name": "stdout",
     "output_type": "stream",
     "text": [
      "2\n",
      "0\n",
      "2\n",
      "111\n"
     ]
    }
   ],
   "source": [
    "print(macro[0] + mega[0])\n",
    "print(macro[0]) #2\n",
    "print(mega[0]) #2\n",
    "#total 2\n",
    "\n",
    "print(none[1] + nano[1]+ micro[1] + macro[1] + mega[1] + nan[1])\n",
    "#total 111"
   ]
  }
 ],
 "metadata": {
  "kernelspec": {
   "display_name": "base",
   "language": "python",
   "name": "python3"
  },
  "language_info": {
   "codemirror_mode": {
    "name": "ipython",
    "version": 3
   },
   "file_extension": ".py",
   "mimetype": "text/x-python",
   "name": "python",
   "nbconvert_exporter": "python",
   "pygments_lexer": "ipython3",
   "version": "3.11.5"
  }
 },
 "nbformat": 4,
 "nbformat_minor": 2
}
